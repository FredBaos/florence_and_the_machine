{
 "cells": [
  {
   "cell_type": "markdown",
   "metadata": {},
   "source": [
    "# Project milestone 2 for the group \"Florence and the Machine\"\n",
    "Students names: Jangwon Park, Frank Schmutz, Frédéric Myotte, Caroline Moutiez <br/><br/>\n",
    "In this notebook, you will find our deliverable for the milestone 2 of Ada course project."
   ]
  },
  {
   "cell_type": "markdown",
   "metadata": {},
   "source": [
    "## Table of contents\n",
    "1. [Loading dataset](#Part-I:-Loading-dataset) \n",
    "2. [Cleaning tables](#Part-II:-Cleaning-tables) \n",
    "3. [Exploratory data analysis](#Part-III:-Exploratory-data-analysis) \n",
    "    1. [Products' price and sales over time](#A\\)-Products'-price-and-sales-over-time)\n",
    "    2. [Measuring price elasticity of demand](#B\\)-Measuring-price-elasticity-of-demand)\n",
    "    3. [Measuring complementarity between products](#C\\)-Measuring-complementarity-between-products)\n",
    "    4. [Effect of income and presence of children on food purchases](#D\\)-Effect-of-income-and-presence-of-children-on-food-purchases)\n",
    "4. [Discussions and plan for what comes next](#Part-IV:-Discussions-and-plan-for-what-comes-next)"
   ]
  },
  {
   "cell_type": "code",
   "execution_count": 72,
   "metadata": {},
   "outputs": [],
   "source": [
    "# Standard libraries\n",
    "import numpy as np\n",
    "import pandas as pd\n",
    "from collections import Counter, OrderedDict\n",
    "import itertools\n",
    "\n",
    "# Plotting\n",
    "%matplotlib inline\n",
    "import matplotlib.pyplot as plt\n",
    "\n",
    "# NLP-specific imports\n",
    "import re\n",
    "import spacy\n",
    "import gensim\n",
    "import gensim.corpora as corpora\n",
    "from gensim.utils import simple_preprocess\n",
    "import nltk\n",
    "from nltk.corpus import stopwords\n",
    "from nltk.tokenize import word_tokenize\n",
    "\n",
    "# Other imports\n",
    "import warnings\n",
    "warnings.filterwarnings('ignore')\n",
    "SEED = 1"
   ]
  },
  {
   "cell_type": "markdown",
   "metadata": {},
   "source": [
    "## Part I: Loading dataset"
   ]
  },
  {
   "cell_type": "markdown",
   "metadata": {},
   "source": [
    "There are 8 tables in total whose details and relationships are illustrated in the figure below."
   ]
  },
  {
   "cell_type": "markdown",
   "metadata": {},
   "source": [
    "<img src=\"dunnhumby db relations.png\" width=\"700\" height=\"700\" align=\"center\"/>"
   ]
  },
  {
   "cell_type": "markdown",
   "metadata": {},
   "source": [
    "Information related to marketing campaigns and the details about which household redeemed which coupon are provided across four tables: `CAMPAIGN_TABLE`, `CAMPAIGN_DESC`, `COUPON_REDEMPT`, `COUPON`, and `CAUSAL_DATA`. For the exploratory data analysis part, we decided to focus more on the rest of the tables for cleaning and descriptive analysis, namely `HH_DEMOGRAPHIC`, `TRANSACTION_DATA`, and `PRODUCT`. This is because our research is centered around discovering the economics of food purchases, rather than operational aspects of the store, and in particular investigating: how to measure in an accurate way the degree to which products are complementary or substitutable in the microeconomics sense, and how income and presence of children affect food purchase decisions."
   ]
  },
  {
   "cell_type": "code",
   "execution_count": 8,
   "metadata": {},
   "outputs": [],
   "source": [
    "# Import tables\n",
    "hh_demographic = pd.read_csv(\"../dunnhumby/csv/hh_demographic.csv\")\n",
    "product = pd.read_csv(\"../dunnhumby/csv/product.csv\")\n",
    "transaction_data = pd.read_csv(\"../dunnhumby/csv/transaction_data.csv\")"
   ]
  },
  {
   "cell_type": "code",
   "execution_count": 9,
   "metadata": {},
   "outputs": [
    {
     "data": {
      "text/html": [
       "<div>\n",
       "<style scoped>\n",
       "    .dataframe tbody tr th:only-of-type {\n",
       "        vertical-align: middle;\n",
       "    }\n",
       "\n",
       "    .dataframe tbody tr th {\n",
       "        vertical-align: top;\n",
       "    }\n",
       "\n",
       "    .dataframe thead th {\n",
       "        text-align: right;\n",
       "    }\n",
       "</style>\n",
       "<table border=\"1\" class=\"dataframe\">\n",
       "  <thead>\n",
       "    <tr style=\"text-align: right;\">\n",
       "      <th></th>\n",
       "      <th>AGE_DESC</th>\n",
       "      <th>MARITAL_STATUS_CODE</th>\n",
       "      <th>INCOME_DESC</th>\n",
       "      <th>HOMEOWNER_DESC</th>\n",
       "      <th>HH_COMP_DESC</th>\n",
       "      <th>HOUSEHOLD_SIZE_DESC</th>\n",
       "      <th>KID_CATEGORY_DESC</th>\n",
       "      <th>household_key</th>\n",
       "    </tr>\n",
       "  </thead>\n",
       "  <tbody>\n",
       "    <tr>\n",
       "      <td>0</td>\n",
       "      <td>65+</td>\n",
       "      <td>A</td>\n",
       "      <td>35-49K</td>\n",
       "      <td>Homeowner</td>\n",
       "      <td>2 Adults No Kids</td>\n",
       "      <td>2</td>\n",
       "      <td>None/Unknown</td>\n",
       "      <td>1</td>\n",
       "    </tr>\n",
       "    <tr>\n",
       "      <td>1</td>\n",
       "      <td>45-54</td>\n",
       "      <td>A</td>\n",
       "      <td>50-74K</td>\n",
       "      <td>Homeowner</td>\n",
       "      <td>2 Adults No Kids</td>\n",
       "      <td>2</td>\n",
       "      <td>None/Unknown</td>\n",
       "      <td>7</td>\n",
       "    </tr>\n",
       "    <tr>\n",
       "      <td>2</td>\n",
       "      <td>25-34</td>\n",
       "      <td>U</td>\n",
       "      <td>25-34K</td>\n",
       "      <td>Unknown</td>\n",
       "      <td>2 Adults Kids</td>\n",
       "      <td>3</td>\n",
       "      <td>1</td>\n",
       "      <td>8</td>\n",
       "    </tr>\n",
       "    <tr>\n",
       "      <td>3</td>\n",
       "      <td>25-34</td>\n",
       "      <td>U</td>\n",
       "      <td>75-99K</td>\n",
       "      <td>Homeowner</td>\n",
       "      <td>2 Adults Kids</td>\n",
       "      <td>4</td>\n",
       "      <td>2</td>\n",
       "      <td>13</td>\n",
       "    </tr>\n",
       "    <tr>\n",
       "      <td>4</td>\n",
       "      <td>45-54</td>\n",
       "      <td>B</td>\n",
       "      <td>50-74K</td>\n",
       "      <td>Homeowner</td>\n",
       "      <td>Single Female</td>\n",
       "      <td>1</td>\n",
       "      <td>None/Unknown</td>\n",
       "      <td>16</td>\n",
       "    </tr>\n",
       "  </tbody>\n",
       "</table>\n",
       "</div>"
      ],
      "text/plain": [
       "  AGE_DESC MARITAL_STATUS_CODE INCOME_DESC HOMEOWNER_DESC      HH_COMP_DESC  \\\n",
       "0      65+                   A      35-49K      Homeowner  2 Adults No Kids   \n",
       "1    45-54                   A      50-74K      Homeowner  2 Adults No Kids   \n",
       "2    25-34                   U      25-34K        Unknown     2 Adults Kids   \n",
       "3    25-34                   U      75-99K      Homeowner     2 Adults Kids   \n",
       "4    45-54                   B      50-74K      Homeowner     Single Female   \n",
       "\n",
       "  HOUSEHOLD_SIZE_DESC KID_CATEGORY_DESC  household_key  \n",
       "0                   2      None/Unknown              1  \n",
       "1                   2      None/Unknown              7  \n",
       "2                   3                 1              8  \n",
       "3                   4                 2             13  \n",
       "4                   1      None/Unknown             16  "
      ]
     },
     "execution_count": 9,
     "metadata": {},
     "output_type": "execute_result"
    }
   ],
   "source": [
    "# Demographic information about each household\n",
    "hh_demographic.head()"
   ]
  },
  {
   "cell_type": "code",
   "execution_count": 10,
   "metadata": {},
   "outputs": [
    {
     "data": {
      "text/html": [
       "<div>\n",
       "<style scoped>\n",
       "    .dataframe tbody tr th:only-of-type {\n",
       "        vertical-align: middle;\n",
       "    }\n",
       "\n",
       "    .dataframe tbody tr th {\n",
       "        vertical-align: top;\n",
       "    }\n",
       "\n",
       "    .dataframe thead th {\n",
       "        text-align: right;\n",
       "    }\n",
       "</style>\n",
       "<table border=\"1\" class=\"dataframe\">\n",
       "  <thead>\n",
       "    <tr style=\"text-align: right;\">\n",
       "      <th></th>\n",
       "      <th>PRODUCT_ID</th>\n",
       "      <th>MANUFACTURER</th>\n",
       "      <th>DEPARTMENT</th>\n",
       "      <th>BRAND</th>\n",
       "      <th>COMMODITY_DESC</th>\n",
       "      <th>SUB_COMMODITY_DESC</th>\n",
       "      <th>CURR_SIZE_OF_PRODUCT</th>\n",
       "    </tr>\n",
       "  </thead>\n",
       "  <tbody>\n",
       "    <tr>\n",
       "      <td>0</td>\n",
       "      <td>25671</td>\n",
       "      <td>2</td>\n",
       "      <td>GROCERY</td>\n",
       "      <td>National</td>\n",
       "      <td>FRZN ICE</td>\n",
       "      <td>ICE - CRUSHED/CUBED</td>\n",
       "      <td>22 LB</td>\n",
       "    </tr>\n",
       "    <tr>\n",
       "      <td>1</td>\n",
       "      <td>26081</td>\n",
       "      <td>2</td>\n",
       "      <td>MISC. TRANS.</td>\n",
       "      <td>National</td>\n",
       "      <td>NO COMMODITY DESCRIPTION</td>\n",
       "      <td>NO SUBCOMMODITY DESCRIPTION</td>\n",
       "      <td></td>\n",
       "    </tr>\n",
       "    <tr>\n",
       "      <td>2</td>\n",
       "      <td>26093</td>\n",
       "      <td>69</td>\n",
       "      <td>PASTRY</td>\n",
       "      <td>Private</td>\n",
       "      <td>BREAD</td>\n",
       "      <td>BREAD:ITALIAN/FRENCH</td>\n",
       "      <td></td>\n",
       "    </tr>\n",
       "    <tr>\n",
       "      <td>3</td>\n",
       "      <td>26190</td>\n",
       "      <td>69</td>\n",
       "      <td>GROCERY</td>\n",
       "      <td>Private</td>\n",
       "      <td>FRUIT - SHELF STABLE</td>\n",
       "      <td>APPLE SAUCE</td>\n",
       "      <td>50 OZ</td>\n",
       "    </tr>\n",
       "    <tr>\n",
       "      <td>4</td>\n",
       "      <td>26355</td>\n",
       "      <td>69</td>\n",
       "      <td>GROCERY</td>\n",
       "      <td>Private</td>\n",
       "      <td>COOKIES/CONES</td>\n",
       "      <td>SPECIALTY COOKIES</td>\n",
       "      <td>14 OZ</td>\n",
       "    </tr>\n",
       "  </tbody>\n",
       "</table>\n",
       "</div>"
      ],
      "text/plain": [
       "   PRODUCT_ID  MANUFACTURER    DEPARTMENT     BRAND            COMMODITY_DESC  \\\n",
       "0       25671             2       GROCERY  National                  FRZN ICE   \n",
       "1       26081             2  MISC. TRANS.  National  NO COMMODITY DESCRIPTION   \n",
       "2       26093            69        PASTRY   Private                     BREAD   \n",
       "3       26190            69       GROCERY   Private      FRUIT - SHELF STABLE   \n",
       "4       26355            69       GROCERY   Private             COOKIES/CONES   \n",
       "\n",
       "            SUB_COMMODITY_DESC CURR_SIZE_OF_PRODUCT  \n",
       "0          ICE - CRUSHED/CUBED                22 LB  \n",
       "1  NO SUBCOMMODITY DESCRIPTION                       \n",
       "2         BREAD:ITALIAN/FRENCH                       \n",
       "3                  APPLE SAUCE                50 OZ  \n",
       "4            SPECIALTY COOKIES                14 OZ  "
      ]
     },
     "execution_count": 10,
     "metadata": {},
     "output_type": "execute_result"
    }
   ],
   "source": [
    "# Product information\n",
    "product.head()"
   ]
  },
  {
   "cell_type": "code",
   "execution_count": 11,
   "metadata": {
    "scrolled": true
   },
   "outputs": [
    {
     "data": {
      "text/html": [
       "<div>\n",
       "<style scoped>\n",
       "    .dataframe tbody tr th:only-of-type {\n",
       "        vertical-align: middle;\n",
       "    }\n",
       "\n",
       "    .dataframe tbody tr th {\n",
       "        vertical-align: top;\n",
       "    }\n",
       "\n",
       "    .dataframe thead th {\n",
       "        text-align: right;\n",
       "    }\n",
       "</style>\n",
       "<table border=\"1\" class=\"dataframe\">\n",
       "  <thead>\n",
       "    <tr style=\"text-align: right;\">\n",
       "      <th></th>\n",
       "      <th>household_key</th>\n",
       "      <th>BASKET_ID</th>\n",
       "      <th>DAY</th>\n",
       "      <th>PRODUCT_ID</th>\n",
       "      <th>QUANTITY</th>\n",
       "      <th>SALES_VALUE</th>\n",
       "      <th>STORE_ID</th>\n",
       "      <th>RETAIL_DISC</th>\n",
       "      <th>TRANS_TIME</th>\n",
       "      <th>WEEK_NO</th>\n",
       "      <th>COUPON_DISC</th>\n",
       "      <th>COUPON_MATCH_DISC</th>\n",
       "    </tr>\n",
       "  </thead>\n",
       "  <tbody>\n",
       "    <tr>\n",
       "      <td>0</td>\n",
       "      <td>2375</td>\n",
       "      <td>26984851472</td>\n",
       "      <td>1</td>\n",
       "      <td>1004906</td>\n",
       "      <td>1</td>\n",
       "      <td>1.39</td>\n",
       "      <td>364</td>\n",
       "      <td>-0.60</td>\n",
       "      <td>1631</td>\n",
       "      <td>1</td>\n",
       "      <td>0.0</td>\n",
       "      <td>0.0</td>\n",
       "    </tr>\n",
       "    <tr>\n",
       "      <td>1</td>\n",
       "      <td>2375</td>\n",
       "      <td>26984851472</td>\n",
       "      <td>1</td>\n",
       "      <td>1033142</td>\n",
       "      <td>1</td>\n",
       "      <td>0.82</td>\n",
       "      <td>364</td>\n",
       "      <td>0.00</td>\n",
       "      <td>1631</td>\n",
       "      <td>1</td>\n",
       "      <td>0.0</td>\n",
       "      <td>0.0</td>\n",
       "    </tr>\n",
       "    <tr>\n",
       "      <td>2</td>\n",
       "      <td>2375</td>\n",
       "      <td>26984851472</td>\n",
       "      <td>1</td>\n",
       "      <td>1036325</td>\n",
       "      <td>1</td>\n",
       "      <td>0.99</td>\n",
       "      <td>364</td>\n",
       "      <td>-0.30</td>\n",
       "      <td>1631</td>\n",
       "      <td>1</td>\n",
       "      <td>0.0</td>\n",
       "      <td>0.0</td>\n",
       "    </tr>\n",
       "    <tr>\n",
       "      <td>3</td>\n",
       "      <td>2375</td>\n",
       "      <td>26984851472</td>\n",
       "      <td>1</td>\n",
       "      <td>1082185</td>\n",
       "      <td>1</td>\n",
       "      <td>1.21</td>\n",
       "      <td>364</td>\n",
       "      <td>0.00</td>\n",
       "      <td>1631</td>\n",
       "      <td>1</td>\n",
       "      <td>0.0</td>\n",
       "      <td>0.0</td>\n",
       "    </tr>\n",
       "    <tr>\n",
       "      <td>4</td>\n",
       "      <td>2375</td>\n",
       "      <td>26984851472</td>\n",
       "      <td>1</td>\n",
       "      <td>8160430</td>\n",
       "      <td>1</td>\n",
       "      <td>1.50</td>\n",
       "      <td>364</td>\n",
       "      <td>-0.39</td>\n",
       "      <td>1631</td>\n",
       "      <td>1</td>\n",
       "      <td>0.0</td>\n",
       "      <td>0.0</td>\n",
       "    </tr>\n",
       "  </tbody>\n",
       "</table>\n",
       "</div>"
      ],
      "text/plain": [
       "   household_key    BASKET_ID  DAY  PRODUCT_ID  QUANTITY  SALES_VALUE  \\\n",
       "0           2375  26984851472    1     1004906         1         1.39   \n",
       "1           2375  26984851472    1     1033142         1         0.82   \n",
       "2           2375  26984851472    1     1036325         1         0.99   \n",
       "3           2375  26984851472    1     1082185         1         1.21   \n",
       "4           2375  26984851472    1     8160430         1         1.50   \n",
       "\n",
       "   STORE_ID  RETAIL_DISC  TRANS_TIME  WEEK_NO  COUPON_DISC  COUPON_MATCH_DISC  \n",
       "0       364        -0.60        1631        1          0.0                0.0  \n",
       "1       364         0.00        1631        1          0.0                0.0  \n",
       "2       364        -0.30        1631        1          0.0                0.0  \n",
       "3       364         0.00        1631        1          0.0                0.0  \n",
       "4       364        -0.39        1631        1          0.0                0.0  "
      ]
     },
     "execution_count": 11,
     "metadata": {},
     "output_type": "execute_result"
    }
   ],
   "source": [
    "# Transaction records\n",
    "transaction_data.head()"
   ]
  },
  {
   "cell_type": "code",
   "execution_count": 12,
   "metadata": {},
   "outputs": [
    {
     "data": {
      "text/plain": [
       "((801, 8), (92353, 7), (2595732, 12))"
      ]
     },
     "execution_count": 12,
     "metadata": {},
     "output_type": "execute_result"
    }
   ],
   "source": [
    "# Checking sizes of the tables we are going to use\n",
    "hh_demographic.shape, product.shape, transaction_data.shape"
   ]
  },
  {
   "cell_type": "markdown",
   "metadata": {},
   "source": [
    "## Part II: Cleaning tables"
   ]
  },
  {
   "cell_type": "markdown",
   "metadata": {},
   "source": [
    "In this part of the notebook, we are interested in achieving the following tasks:\n",
    "1. **Find and address any missing values in each of the three tables**. <br/> In the `hh_demographic` table, for example, not all families who shop provided their personal information voluntarily. We want to see how many families in the `transaction_data` table actually have provided demographic information.\n",
    "2. **Find and address non-sensical values**. <br/> Some transaction records, for example, will report purchased quantity of 0 and/or sales value of 0. As this implies no transaction for that product, we can remove these rows without incurring any loss of information.\n",
    "3. **Some simple feature processing**. <br/> Again in the transaction records, for instance, we don't actually observe the *actual unit price* of each product. When they do, the actual unit price may be obscured by discounts and coupons. However, we can derive this using a simple formula presented in the User Guide pdf available on the Dunnhumby website."
   ]
  },
  {
   "cell_type": "markdown",
   "metadata": {},
   "source": [
    "#### Cleaning of transaction table"
   ]
  },
  {
   "cell_type": "code",
   "execution_count": 13,
   "metadata": {},
   "outputs": [
    {
     "name": "stdout",
     "output_type": "stream",
     "text": [
      "Missing data in column \"household_key\": 0\n",
      "Missing data in column \"BASKET_ID\": 0\n",
      "Missing data in column \"DAY\": 0\n",
      "Missing data in column \"PRODUCT_ID\": 0\n",
      "Missing data in column \"QUANTITY\": 0\n",
      "Missing data in column \"SALES_VALUE\": 0\n",
      "Missing data in column \"STORE_ID\": 0\n",
      "Missing data in column \"RETAIL_DISC\": 0\n",
      "Missing data in column \"TRANS_TIME\": 0\n",
      "Missing data in column \"WEEK_NO\": 0\n",
      "Missing data in column \"COUPON_DISC\": 0\n",
      "Missing data in column \"COUPON_MATCH_DISC\": 0\n"
     ]
    }
   ],
   "source": [
    "# Check for missing (null/na) data in \"transaction_data\"\n",
    "for c in transaction_data.columns:\n",
    "    print('Missing data in column \"{}\": {}'.format(c,sum(transaction_data[c].isnull())))"
   ]
  },
  {
   "cell_type": "markdown",
   "metadata": {},
   "source": [
    "We seem to have no missing data, but not all records are meaningful. An example of an invalid transaction record is when the quantity or sales value is 0."
   ]
  },
  {
   "cell_type": "code",
   "execution_count": 14,
   "metadata": {},
   "outputs": [
    {
     "name": "stdout",
     "output_type": "stream",
     "text": [
      "Number of rows to be removed:  18917\n"
     ]
    },
    {
     "data": {
      "text/html": [
       "<div>\n",
       "<style scoped>\n",
       "    .dataframe tbody tr th:only-of-type {\n",
       "        vertical-align: middle;\n",
       "    }\n",
       "\n",
       "    .dataframe tbody tr th {\n",
       "        vertical-align: top;\n",
       "    }\n",
       "\n",
       "    .dataframe thead th {\n",
       "        text-align: right;\n",
       "    }\n",
       "</style>\n",
       "<table border=\"1\" class=\"dataframe\">\n",
       "  <thead>\n",
       "    <tr style=\"text-align: right;\">\n",
       "      <th></th>\n",
       "      <th>household_key</th>\n",
       "      <th>BASKET_ID</th>\n",
       "      <th>DAY</th>\n",
       "      <th>PRODUCT_ID</th>\n",
       "      <th>QUANTITY</th>\n",
       "      <th>SALES_VALUE</th>\n",
       "      <th>STORE_ID</th>\n",
       "      <th>RETAIL_DISC</th>\n",
       "      <th>TRANS_TIME</th>\n",
       "      <th>WEEK_NO</th>\n",
       "      <th>COUPON_DISC</th>\n",
       "      <th>COUPON_MATCH_DISC</th>\n",
       "    </tr>\n",
       "  </thead>\n",
       "  <tbody>\n",
       "    <tr>\n",
       "      <td>97</td>\n",
       "      <td>744</td>\n",
       "      <td>26985165432</td>\n",
       "      <td>1</td>\n",
       "      <td>5978648</td>\n",
       "      <td>0</td>\n",
       "      <td>0.0</td>\n",
       "      <td>31582</td>\n",
       "      <td>0.0</td>\n",
       "      <td>1119</td>\n",
       "      <td>1</td>\n",
       "      <td>0.0</td>\n",
       "      <td>0.0</td>\n",
       "    </tr>\n",
       "    <tr>\n",
       "      <td>128</td>\n",
       "      <td>1287</td>\n",
       "      <td>26985336468</td>\n",
       "      <td>1</td>\n",
       "      <td>5978648</td>\n",
       "      <td>0</td>\n",
       "      <td>0.0</td>\n",
       "      <td>304</td>\n",
       "      <td>0.0</td>\n",
       "      <td>1351</td>\n",
       "      <td>1</td>\n",
       "      <td>0.0</td>\n",
       "      <td>0.0</td>\n",
       "    </tr>\n",
       "    <tr>\n",
       "      <td>249</td>\n",
       "      <td>2305</td>\n",
       "      <td>26996870743</td>\n",
       "      <td>2</td>\n",
       "      <td>5978656</td>\n",
       "      <td>0</td>\n",
       "      <td>0.0</td>\n",
       "      <td>414</td>\n",
       "      <td>0.0</td>\n",
       "      <td>1300</td>\n",
       "      <td>1</td>\n",
       "      <td>-1.0</td>\n",
       "      <td>0.0</td>\n",
       "    </tr>\n",
       "    <tr>\n",
       "      <td>293</td>\n",
       "      <td>271</td>\n",
       "      <td>26997082949</td>\n",
       "      <td>2</td>\n",
       "      <td>5978656</td>\n",
       "      <td>0</td>\n",
       "      <td>0.0</td>\n",
       "      <td>329</td>\n",
       "      <td>0.0</td>\n",
       "      <td>1719</td>\n",
       "      <td>1</td>\n",
       "      <td>-2.0</td>\n",
       "      <td>0.0</td>\n",
       "    </tr>\n",
       "    <tr>\n",
       "      <td>694</td>\n",
       "      <td>315</td>\n",
       "      <td>27008952267</td>\n",
       "      <td>3</td>\n",
       "      <td>957951</td>\n",
       "      <td>0</td>\n",
       "      <td>0.0</td>\n",
       "      <td>327</td>\n",
       "      <td>0.0</td>\n",
       "      <td>1707</td>\n",
       "      <td>1</td>\n",
       "      <td>0.0</td>\n",
       "      <td>0.0</td>\n",
       "    </tr>\n",
       "  </tbody>\n",
       "</table>\n",
       "</div>"
      ],
      "text/plain": [
       "     household_key    BASKET_ID  DAY  PRODUCT_ID  QUANTITY  SALES_VALUE  \\\n",
       "97             744  26985165432    1     5978648         0          0.0   \n",
       "128           1287  26985336468    1     5978648         0          0.0   \n",
       "249           2305  26996870743    2     5978656         0          0.0   \n",
       "293            271  26997082949    2     5978656         0          0.0   \n",
       "694            315  27008952267    3      957951         0          0.0   \n",
       "\n",
       "     STORE_ID  RETAIL_DISC  TRANS_TIME  WEEK_NO  COUPON_DISC  \\\n",
       "97      31582          0.0        1119        1          0.0   \n",
       "128       304          0.0        1351        1          0.0   \n",
       "249       414          0.0        1300        1         -1.0   \n",
       "293       329          0.0        1719        1         -2.0   \n",
       "694       327          0.0        1707        1          0.0   \n",
       "\n",
       "     COUPON_MATCH_DISC  \n",
       "97                 0.0  \n",
       "128                0.0  \n",
       "249                0.0  \n",
       "293                0.0  \n",
       "694                0.0  "
      ]
     },
     "execution_count": 14,
     "metadata": {},
     "output_type": "execute_result"
    }
   ],
   "source": [
    "# Check number of rows with QUANTITY == 0 or SALES_VALUE == 0\n",
    "invalid_rows = transaction_data[(transaction_data.SALES_VALUE == 0) | (transaction_data.QUANTITY == 0)]\n",
    "print('Number of rows to be removed: ', invalid_rows.shape[0])\n",
    "invalid_rows.head()"
   ]
  },
  {
   "cell_type": "code",
   "execution_count": 15,
   "metadata": {},
   "outputs": [
    {
     "data": {
      "text/plain": [
       "(2576815, 12)"
      ]
     },
     "execution_count": 15,
     "metadata": {},
     "output_type": "execute_result"
    }
   ],
   "source": [
    "# Removing these rows loses no information as they contain none.\n",
    "transaction_data = transaction_data[~((transaction_data.SALES_VALUE == 0) | (transaction_data.QUANTITY == 0))]\n",
    "transaction_data.shape"
   ]
  },
  {
   "cell_type": "markdown",
   "metadata": {},
   "source": [
    "There appears to be two kinds of actual unit prices: loyalty card price and non-loyalty card price. By definition, actual unit price derived from loyalty card holders (simply call this LCP) is always larger than or equal to that derived from non-loyalty card holders (call this NLCP) because loyalty card holders receive both the retrail as well as the coupon discounts whereas non-loyalty card holders receive only the latter. Therefore, when LCP > NLCP, we know that the true actual unit price equal to LCP; otherwise, LCP and NLCP should be equivalent and it doesn't matter which one we take."
   ]
  },
  {
   "cell_type": "code",
   "execution_count": 16,
   "metadata": {},
   "outputs": [
    {
     "name": "stdout",
     "output_type": "stream",
     "text": [
      "Number of missing LCP values:  0\n",
      "Number of missing NLCP values:  0\n"
     ]
    }
   ],
   "source": [
    "# Calculate the actual unit product price (formula taken from the User Guide pdf)\n",
    "\n",
    "# Loyalty card price (LCP)\n",
    "LCP = (transaction_data.SALES_VALUE - (transaction_data.RETAIL_DISC + \\\n",
    "                                       transaction_data.COUPON_MATCH_DISC))/transaction_data.QUANTITY\n",
    "\n",
    "# Non-loyalty card price (NLCP)\n",
    "NLCP = (transaction_data.SALES_VALUE - transaction_data.COUPON_MATCH_DISC)/transaction_data.QUANTITY\n",
    "\n",
    "# Confirm that there are no 0 quantities because if there were, some values would be nan.\n",
    "print('Number of missing LCP values: ', sum(LCP.isnull()))\n",
    "print('Number of missing NLCP values: ', sum(NLCP.isnull()))"
   ]
  },
  {
   "cell_type": "code",
   "execution_count": 17,
   "metadata": {},
   "outputs": [
    {
     "data": {
      "text/html": [
       "<div>\n",
       "<style scoped>\n",
       "    .dataframe tbody tr th:only-of-type {\n",
       "        vertical-align: middle;\n",
       "    }\n",
       "\n",
       "    .dataframe tbody tr th {\n",
       "        vertical-align: top;\n",
       "    }\n",
       "\n",
       "    .dataframe thead th {\n",
       "        text-align: right;\n",
       "    }\n",
       "</style>\n",
       "<table border=\"1\" class=\"dataframe\">\n",
       "  <thead>\n",
       "    <tr style=\"text-align: right;\">\n",
       "      <th></th>\n",
       "      <th>household_key</th>\n",
       "      <th>BASKET_ID</th>\n",
       "      <th>DAY</th>\n",
       "      <th>PRODUCT_ID</th>\n",
       "      <th>QUANTITY</th>\n",
       "      <th>SALES_VALUE</th>\n",
       "      <th>STORE_ID</th>\n",
       "      <th>RETAIL_DISC</th>\n",
       "      <th>TRANS_TIME</th>\n",
       "      <th>WEEK_NO</th>\n",
       "      <th>COUPON_DISC</th>\n",
       "      <th>COUPON_MATCH_DISC</th>\n",
       "    </tr>\n",
       "  </thead>\n",
       "  <tbody>\n",
       "    <tr>\n",
       "      <td>1215551</td>\n",
       "      <td>1535</td>\n",
       "      <td>32478752229</td>\n",
       "      <td>370</td>\n",
       "      <td>999270</td>\n",
       "      <td>1</td>\n",
       "      <td>7.98</td>\n",
       "      <td>360</td>\n",
       "      <td>3.990000e+00</td>\n",
       "      <td>1852</td>\n",
       "      <td>54</td>\n",
       "      <td>0.0</td>\n",
       "      <td>0.0</td>\n",
       "    </tr>\n",
       "    <tr>\n",
       "      <td>1271754</td>\n",
       "      <td>623</td>\n",
       "      <td>32704598135</td>\n",
       "      <td>384</td>\n",
       "      <td>5995423</td>\n",
       "      <td>1</td>\n",
       "      <td>0.51</td>\n",
       "      <td>381</td>\n",
       "      <td>2.600000e-01</td>\n",
       "      <td>1950</td>\n",
       "      <td>56</td>\n",
       "      <td>0.0</td>\n",
       "      <td>0.0</td>\n",
       "    </tr>\n",
       "    <tr>\n",
       "      <td>1292342</td>\n",
       "      <td>59</td>\n",
       "      <td>32759986795</td>\n",
       "      <td>389</td>\n",
       "      <td>835530</td>\n",
       "      <td>1</td>\n",
       "      <td>2.50</td>\n",
       "      <td>352</td>\n",
       "      <td>4.440892e-16</td>\n",
       "      <td>1903</td>\n",
       "      <td>56</td>\n",
       "      <td>0.0</td>\n",
       "      <td>0.0</td>\n",
       "    </tr>\n",
       "    <tr>\n",
       "      <td>1466571</td>\n",
       "      <td>290</td>\n",
       "      <td>33362690334</td>\n",
       "      <td>433</td>\n",
       "      <td>9575181</td>\n",
       "      <td>2</td>\n",
       "      <td>0.66</td>\n",
       "      <td>367</td>\n",
       "      <td>1.110223e-16</td>\n",
       "      <td>1723</td>\n",
       "      <td>63</td>\n",
       "      <td>0.0</td>\n",
       "      <td>0.0</td>\n",
       "    </tr>\n",
       "    <tr>\n",
       "      <td>1785852</td>\n",
       "      <td>367</td>\n",
       "      <td>35080936104</td>\n",
       "      <td>512</td>\n",
       "      <td>10456655</td>\n",
       "      <td>4</td>\n",
       "      <td>1.00</td>\n",
       "      <td>368</td>\n",
       "      <td>1.110223e-16</td>\n",
       "      <td>1537</td>\n",
       "      <td>74</td>\n",
       "      <td>0.0</td>\n",
       "      <td>0.0</td>\n",
       "    </tr>\n",
       "  </tbody>\n",
       "</table>\n",
       "</div>"
      ],
      "text/plain": [
       "         household_key    BASKET_ID  DAY  PRODUCT_ID  QUANTITY  SALES_VALUE  \\\n",
       "1215551           1535  32478752229  370      999270         1         7.98   \n",
       "1271754            623  32704598135  384     5995423         1         0.51   \n",
       "1292342             59  32759986795  389      835530         1         2.50   \n",
       "1466571            290  33362690334  433     9575181         2         0.66   \n",
       "1785852            367  35080936104  512    10456655         4         1.00   \n",
       "\n",
       "         STORE_ID   RETAIL_DISC  TRANS_TIME  WEEK_NO  COUPON_DISC  \\\n",
       "1215551       360  3.990000e+00        1852       54          0.0   \n",
       "1271754       381  2.600000e-01        1950       56          0.0   \n",
       "1292342       352  4.440892e-16        1903       56          0.0   \n",
       "1466571       367  1.110223e-16        1723       63          0.0   \n",
       "1785852       368  1.110223e-16        1537       74          0.0   \n",
       "\n",
       "         COUPON_MATCH_DISC  \n",
       "1215551                0.0  \n",
       "1271754                0.0  \n",
       "1292342                0.0  \n",
       "1466571                0.0  \n",
       "1785852                0.0  "
      ]
     },
     "execution_count": 17,
     "metadata": {},
     "output_type": "execute_result"
    }
   ],
   "source": [
    "# Verify if LCP >= NCLP relationship is indeed true\n",
    "transaction_data[LCP < NLCP]"
   ]
  },
  {
   "cell_type": "markdown",
   "metadata": {},
   "source": [
    "It turns out that there are **five rows** which violate the relationship LCP $\\geq$ NLCP (out of ~2.5M rows). The common factor in these observations is that `RETAIL_DISC` is positive. A positive `RETAIL_DISC` implies that by applying the discount, the consumer would have paid a higher amount. This is clearly illogical as it would then not be a discount. Therefore, a more comprehensive search is to look for rows that have a positive value under `RETAIL_DISC`."
   ]
  },
  {
   "cell_type": "code",
   "execution_count": 18,
   "metadata": {},
   "outputs": [
    {
     "data": {
      "text/html": [
       "<div>\n",
       "<style scoped>\n",
       "    .dataframe tbody tr th:only-of-type {\n",
       "        vertical-align: middle;\n",
       "    }\n",
       "\n",
       "    .dataframe tbody tr th {\n",
       "        vertical-align: top;\n",
       "    }\n",
       "\n",
       "    .dataframe thead th {\n",
       "        text-align: right;\n",
       "    }\n",
       "</style>\n",
       "<table border=\"1\" class=\"dataframe\">\n",
       "  <thead>\n",
       "    <tr style=\"text-align: right;\">\n",
       "      <th></th>\n",
       "      <th>household_key</th>\n",
       "      <th>BASKET_ID</th>\n",
       "      <th>DAY</th>\n",
       "      <th>PRODUCT_ID</th>\n",
       "      <th>QUANTITY</th>\n",
       "      <th>SALES_VALUE</th>\n",
       "      <th>STORE_ID</th>\n",
       "      <th>RETAIL_DISC</th>\n",
       "      <th>TRANS_TIME</th>\n",
       "      <th>WEEK_NO</th>\n",
       "      <th>COUPON_DISC</th>\n",
       "      <th>COUPON_MATCH_DISC</th>\n",
       "    </tr>\n",
       "  </thead>\n",
       "  <tbody>\n",
       "    <tr>\n",
       "      <td>1215551</td>\n",
       "      <td>1535</td>\n",
       "      <td>32478752229</td>\n",
       "      <td>370</td>\n",
       "      <td>999270</td>\n",
       "      <td>1</td>\n",
       "      <td>7.98</td>\n",
       "      <td>360</td>\n",
       "      <td>3.990000e+00</td>\n",
       "      <td>1852</td>\n",
       "      <td>54</td>\n",
       "      <td>0.0</td>\n",
       "      <td>0.0</td>\n",
       "    </tr>\n",
       "    <tr>\n",
       "      <td>1271754</td>\n",
       "      <td>623</td>\n",
       "      <td>32704598135</td>\n",
       "      <td>384</td>\n",
       "      <td>5995423</td>\n",
       "      <td>1</td>\n",
       "      <td>0.51</td>\n",
       "      <td>381</td>\n",
       "      <td>2.600000e-01</td>\n",
       "      <td>1950</td>\n",
       "      <td>56</td>\n",
       "      <td>0.0</td>\n",
       "      <td>0.0</td>\n",
       "    </tr>\n",
       "    <tr>\n",
       "      <td>1292342</td>\n",
       "      <td>59</td>\n",
       "      <td>32759986795</td>\n",
       "      <td>389</td>\n",
       "      <td>835530</td>\n",
       "      <td>1</td>\n",
       "      <td>2.50</td>\n",
       "      <td>352</td>\n",
       "      <td>4.440892e-16</td>\n",
       "      <td>1903</td>\n",
       "      <td>56</td>\n",
       "      <td>0.0</td>\n",
       "      <td>0.0</td>\n",
       "    </tr>\n",
       "    <tr>\n",
       "      <td>1466571</td>\n",
       "      <td>290</td>\n",
       "      <td>33362690334</td>\n",
       "      <td>433</td>\n",
       "      <td>9575181</td>\n",
       "      <td>2</td>\n",
       "      <td>0.66</td>\n",
       "      <td>367</td>\n",
       "      <td>1.110223e-16</td>\n",
       "      <td>1723</td>\n",
       "      <td>63</td>\n",
       "      <td>0.0</td>\n",
       "      <td>0.0</td>\n",
       "    </tr>\n",
       "    <tr>\n",
       "      <td>1758882</td>\n",
       "      <td>367</td>\n",
       "      <td>34812010763</td>\n",
       "      <td>505</td>\n",
       "      <td>10456655</td>\n",
       "      <td>7</td>\n",
       "      <td>3.50</td>\n",
       "      <td>368</td>\n",
       "      <td>1.110223e-16</td>\n",
       "      <td>1413</td>\n",
       "      <td>73</td>\n",
       "      <td>0.0</td>\n",
       "      <td>0.0</td>\n",
       "    </tr>\n",
       "    <tr>\n",
       "      <td>1785852</td>\n",
       "      <td>367</td>\n",
       "      <td>35080936104</td>\n",
       "      <td>512</td>\n",
       "      <td>10456655</td>\n",
       "      <td>4</td>\n",
       "      <td>1.00</td>\n",
       "      <td>368</td>\n",
       "      <td>1.110223e-16</td>\n",
       "      <td>1537</td>\n",
       "      <td>74</td>\n",
       "      <td>0.0</td>\n",
       "      <td>0.0</td>\n",
       "    </tr>\n",
       "  </tbody>\n",
       "</table>\n",
       "</div>"
      ],
      "text/plain": [
       "         household_key    BASKET_ID  DAY  PRODUCT_ID  QUANTITY  SALES_VALUE  \\\n",
       "1215551           1535  32478752229  370      999270         1         7.98   \n",
       "1271754            623  32704598135  384     5995423         1         0.51   \n",
       "1292342             59  32759986795  389      835530         1         2.50   \n",
       "1466571            290  33362690334  433     9575181         2         0.66   \n",
       "1758882            367  34812010763  505    10456655         7         3.50   \n",
       "1785852            367  35080936104  512    10456655         4         1.00   \n",
       "\n",
       "         STORE_ID   RETAIL_DISC  TRANS_TIME  WEEK_NO  COUPON_DISC  \\\n",
       "1215551       360  3.990000e+00        1852       54          0.0   \n",
       "1271754       381  2.600000e-01        1950       56          0.0   \n",
       "1292342       352  4.440892e-16        1903       56          0.0   \n",
       "1466571       367  1.110223e-16        1723       63          0.0   \n",
       "1758882       368  1.110223e-16        1413       73          0.0   \n",
       "1785852       368  1.110223e-16        1537       74          0.0   \n",
       "\n",
       "         COUPON_MATCH_DISC  \n",
       "1215551                0.0  \n",
       "1271754                0.0  \n",
       "1292342                0.0  \n",
       "1466571                0.0  \n",
       "1758882                0.0  \n",
       "1785852                0.0  "
      ]
     },
     "execution_count": 18,
     "metadata": {},
     "output_type": "execute_result"
    }
   ],
   "source": [
    "# Print rows with positive RETAIL_DISC\n",
    "pos_retail_disc = transaction_data[transaction_data.RETAIL_DISC > 0]\n",
    "pos_retail_disc"
   ]
  },
  {
   "cell_type": "markdown",
   "metadata": {},
   "source": [
    "The entries here effectively overlap with the rows that also have LCP < NLCP (which shouldn't happen). So we can attribute the violation of the \"LCP $\\geq$ NLCP\" condition to the fact that these rows have positive `RETAIL_DISC`. The last four rows, however, don't really matter as their values of `RETAIL_DISC` is basically 0. The first two rows do matter, and we can investigate other rows with the same `PRODUCT_ID` within `TRANSACTION_DATA`."
   ]
  },
  {
   "cell_type": "code",
   "execution_count": 19,
   "metadata": {},
   "outputs": [
    {
     "data": {
      "text/html": [
       "<div>\n",
       "<style scoped>\n",
       "    .dataframe tbody tr th:only-of-type {\n",
       "        vertical-align: middle;\n",
       "    }\n",
       "\n",
       "    .dataframe tbody tr th {\n",
       "        vertical-align: top;\n",
       "    }\n",
       "\n",
       "    .dataframe thead th {\n",
       "        text-align: right;\n",
       "    }\n",
       "</style>\n",
       "<table border=\"1\" class=\"dataframe\">\n",
       "  <thead>\n",
       "    <tr style=\"text-align: right;\">\n",
       "      <th></th>\n",
       "      <th>household_key</th>\n",
       "      <th>BASKET_ID</th>\n",
       "      <th>DAY</th>\n",
       "      <th>PRODUCT_ID</th>\n",
       "      <th>QUANTITY</th>\n",
       "      <th>SALES_VALUE</th>\n",
       "      <th>STORE_ID</th>\n",
       "      <th>RETAIL_DISC</th>\n",
       "      <th>TRANS_TIME</th>\n",
       "      <th>WEEK_NO</th>\n",
       "      <th>COUPON_DISC</th>\n",
       "      <th>COUPON_MATCH_DISC</th>\n",
       "    </tr>\n",
       "  </thead>\n",
       "  <tbody>\n",
       "    <tr>\n",
       "      <td>1217954</td>\n",
       "      <td>878</td>\n",
       "      <td>32493312069</td>\n",
       "      <td>371</td>\n",
       "      <td>999270</td>\n",
       "      <td>2</td>\n",
       "      <td>3.99</td>\n",
       "      <td>446</td>\n",
       "      <td>-3.99</td>\n",
       "      <td>1656</td>\n",
       "      <td>54</td>\n",
       "      <td>0.0</td>\n",
       "      <td>0.0</td>\n",
       "    </tr>\n",
       "    <tr>\n",
       "      <td>1220183</td>\n",
       "      <td>2084</td>\n",
       "      <td>32493651857</td>\n",
       "      <td>371</td>\n",
       "      <td>999270</td>\n",
       "      <td>2</td>\n",
       "      <td>3.99</td>\n",
       "      <td>389</td>\n",
       "      <td>-3.99</td>\n",
       "      <td>1538</td>\n",
       "      <td>54</td>\n",
       "      <td>0.0</td>\n",
       "      <td>0.0</td>\n",
       "    </tr>\n",
       "    <tr>\n",
       "      <td>1220253</td>\n",
       "      <td>210</td>\n",
       "      <td>32493652981</td>\n",
       "      <td>371</td>\n",
       "      <td>999270</td>\n",
       "      <td>2</td>\n",
       "      <td>3.99</td>\n",
       "      <td>389</td>\n",
       "      <td>-3.99</td>\n",
       "      <td>1832</td>\n",
       "      <td>54</td>\n",
       "      <td>0.0</td>\n",
       "      <td>0.0</td>\n",
       "    </tr>\n",
       "    <tr>\n",
       "      <td>1221185</td>\n",
       "      <td>1454</td>\n",
       "      <td>32505251935</td>\n",
       "      <td>372</td>\n",
       "      <td>999270</td>\n",
       "      <td>2</td>\n",
       "      <td>3.99</td>\n",
       "      <td>412</td>\n",
       "      <td>-3.99</td>\n",
       "      <td>1440</td>\n",
       "      <td>54</td>\n",
       "      <td>0.0</td>\n",
       "      <td>0.0</td>\n",
       "    </tr>\n",
       "    <tr>\n",
       "      <td>1221513</td>\n",
       "      <td>1579</td>\n",
       "      <td>32505311358</td>\n",
       "      <td>372</td>\n",
       "      <td>999270</td>\n",
       "      <td>2</td>\n",
       "      <td>3.99</td>\n",
       "      <td>388</td>\n",
       "      <td>-3.99</td>\n",
       "      <td>1354</td>\n",
       "      <td>54</td>\n",
       "      <td>0.0</td>\n",
       "      <td>0.0</td>\n",
       "    </tr>\n",
       "  </tbody>\n",
       "</table>\n",
       "</div>"
      ],
      "text/plain": [
       "         household_key    BASKET_ID  DAY  PRODUCT_ID  QUANTITY  SALES_VALUE  \\\n",
       "1217954            878  32493312069  371      999270         2         3.99   \n",
       "1220183           2084  32493651857  371      999270         2         3.99   \n",
       "1220253            210  32493652981  371      999270         2         3.99   \n",
       "1221185           1454  32505251935  372      999270         2         3.99   \n",
       "1221513           1579  32505311358  372      999270         2         3.99   \n",
       "\n",
       "         STORE_ID  RETAIL_DISC  TRANS_TIME  WEEK_NO  COUPON_DISC  \\\n",
       "1217954       446        -3.99        1656       54          0.0   \n",
       "1220183       389        -3.99        1538       54          0.0   \n",
       "1220253       389        -3.99        1832       54          0.0   \n",
       "1221185       412        -3.99        1440       54          0.0   \n",
       "1221513       388        -3.99        1354       54          0.0   \n",
       "\n",
       "         COUPON_MATCH_DISC  \n",
       "1217954                0.0  \n",
       "1220183                0.0  \n",
       "1220253                0.0  \n",
       "1221185                0.0  \n",
       "1221513                0.0  "
      ]
     },
     "execution_count": 19,
     "metadata": {},
     "output_type": "execute_result"
    }
   ],
   "source": [
    "# Display other rows with the same product ID\n",
    "transaction_data[(transaction_data.PRODUCT_ID == 999270) & (transaction_data.DAY > 370)].head()"
   ]
  },
  {
   "cell_type": "code",
   "execution_count": 20,
   "metadata": {},
   "outputs": [
    {
     "data": {
      "text/html": [
       "<div>\n",
       "<style scoped>\n",
       "    .dataframe tbody tr th:only-of-type {\n",
       "        vertical-align: middle;\n",
       "    }\n",
       "\n",
       "    .dataframe tbody tr th {\n",
       "        vertical-align: top;\n",
       "    }\n",
       "\n",
       "    .dataframe thead th {\n",
       "        text-align: right;\n",
       "    }\n",
       "</style>\n",
       "<table border=\"1\" class=\"dataframe\">\n",
       "  <thead>\n",
       "    <tr style=\"text-align: right;\">\n",
       "      <th></th>\n",
       "      <th>household_key</th>\n",
       "      <th>BASKET_ID</th>\n",
       "      <th>DAY</th>\n",
       "      <th>PRODUCT_ID</th>\n",
       "      <th>QUANTITY</th>\n",
       "      <th>SALES_VALUE</th>\n",
       "      <th>STORE_ID</th>\n",
       "      <th>RETAIL_DISC</th>\n",
       "      <th>TRANS_TIME</th>\n",
       "      <th>WEEK_NO</th>\n",
       "      <th>COUPON_DISC</th>\n",
       "      <th>COUPON_MATCH_DISC</th>\n",
       "    </tr>\n",
       "  </thead>\n",
       "  <tbody>\n",
       "    <tr>\n",
       "      <td>1260616</td>\n",
       "      <td>742</td>\n",
       "      <td>32671515088</td>\n",
       "      <td>382</td>\n",
       "      <td>5995423</td>\n",
       "      <td>1</td>\n",
       "      <td>0.34</td>\n",
       "      <td>445</td>\n",
       "      <td>-0.26</td>\n",
       "      <td>832</td>\n",
       "      <td>55</td>\n",
       "      <td>0.0</td>\n",
       "      <td>0.0</td>\n",
       "    </tr>\n",
       "    <tr>\n",
       "      <td>1268604</td>\n",
       "      <td>468</td>\n",
       "      <td>32672365010</td>\n",
       "      <td>383</td>\n",
       "      <td>5995423</td>\n",
       "      <td>3</td>\n",
       "      <td>1.00</td>\n",
       "      <td>338</td>\n",
       "      <td>-0.79</td>\n",
       "      <td>215</td>\n",
       "      <td>55</td>\n",
       "      <td>0.0</td>\n",
       "      <td>0.0</td>\n",
       "    </tr>\n",
       "    <tr>\n",
       "      <td>1268605</td>\n",
       "      <td>468</td>\n",
       "      <td>32672365011</td>\n",
       "      <td>383</td>\n",
       "      <td>5995423</td>\n",
       "      <td>3</td>\n",
       "      <td>1.00</td>\n",
       "      <td>338</td>\n",
       "      <td>-0.79</td>\n",
       "      <td>216</td>\n",
       "      <td>55</td>\n",
       "      <td>0.0</td>\n",
       "      <td>0.0</td>\n",
       "    </tr>\n",
       "    <tr>\n",
       "      <td>1271754</td>\n",
       "      <td>623</td>\n",
       "      <td>32704598135</td>\n",
       "      <td>384</td>\n",
       "      <td>5995423</td>\n",
       "      <td>1</td>\n",
       "      <td>0.51</td>\n",
       "      <td>381</td>\n",
       "      <td>0.26</td>\n",
       "      <td>1950</td>\n",
       "      <td>56</td>\n",
       "      <td>0.0</td>\n",
       "      <td>0.0</td>\n",
       "    </tr>\n",
       "    <tr>\n",
       "      <td>1275551</td>\n",
       "      <td>636</td>\n",
       "      <td>32715925896</td>\n",
       "      <td>385</td>\n",
       "      <td>5995423</td>\n",
       "      <td>3</td>\n",
       "      <td>1.00</td>\n",
       "      <td>300</td>\n",
       "      <td>-0.79</td>\n",
       "      <td>1631</td>\n",
       "      <td>56</td>\n",
       "      <td>0.0</td>\n",
       "      <td>0.0</td>\n",
       "    </tr>\n",
       "  </tbody>\n",
       "</table>\n",
       "</div>"
      ],
      "text/plain": [
       "         household_key    BASKET_ID  DAY  PRODUCT_ID  QUANTITY  SALES_VALUE  \\\n",
       "1260616            742  32671515088  382     5995423         1         0.34   \n",
       "1268604            468  32672365010  383     5995423         3         1.00   \n",
       "1268605            468  32672365011  383     5995423         3         1.00   \n",
       "1271754            623  32704598135  384     5995423         1         0.51   \n",
       "1275551            636  32715925896  385     5995423         3         1.00   \n",
       "\n",
       "         STORE_ID  RETAIL_DISC  TRANS_TIME  WEEK_NO  COUPON_DISC  \\\n",
       "1260616       445        -0.26         832       55          0.0   \n",
       "1268604       338        -0.79         215       55          0.0   \n",
       "1268605       338        -0.79         216       55          0.0   \n",
       "1271754       381         0.26        1950       56          0.0   \n",
       "1275551       300        -0.79        1631       56          0.0   \n",
       "\n",
       "         COUPON_MATCH_DISC  \n",
       "1260616                0.0  \n",
       "1268604                0.0  \n",
       "1268605                0.0  \n",
       "1271754                0.0  \n",
       "1275551                0.0  "
      ]
     },
     "execution_count": 20,
     "metadata": {},
     "output_type": "execute_result"
    }
   ],
   "source": [
    "# Display other rows with the same product ID\n",
    "transaction_data[(transaction_data.PRODUCT_ID == 5995423) & (transaction_data.DAY > 380)].head()"
   ]
  },
  {
   "cell_type": "markdown",
   "metadata": {},
   "source": [
    "It appears that we can get the actual unit prices for the first \"dirty\" row by subtracting the positive `RETAIL_DISC`, thereby giving us 3.99, which matches the unit prices of the same product on similar days. On the other hand, the second \"dirty\" row seems to have unit prices around 0.60 on other similar days, but it is unclear whether how we can proceed (take the `SALES_VALUE` as is, or subtract `RETAIL_DISC`). Therefore, we choose to remove this second \"dirty\" row."
   ]
  },
  {
   "cell_type": "code",
   "execution_count": 21,
   "metadata": {},
   "outputs": [],
   "source": [
    "# Remove the second \"dirty\" row\n",
    "transaction_data = transaction_data.drop([1271754])\n",
    "transaction_data = transaction_data.reset_index(drop=True)\n",
    "LCP = LCP.drop([1271754])\n",
    "LCP = LCP.reset_index(drop=True)"
   ]
  },
  {
   "cell_type": "code",
   "execution_count": 22,
   "metadata": {},
   "outputs": [],
   "source": [
    "# Create a new feature for the actual unit price (AUP)\n",
    "transaction_data['AUP'] = LCP"
   ]
  },
  {
   "cell_type": "markdown",
   "metadata": {},
   "source": [
    "#### Cleaning of the product table"
   ]
  },
  {
   "cell_type": "code",
   "execution_count": 23,
   "metadata": {},
   "outputs": [
    {
     "name": "stdout",
     "output_type": "stream",
     "text": [
      "Missing data in column \"PRODUCT_ID\": 0\n",
      "Missing data in column \"MANUFACTURER\": 0\n",
      "Missing data in column \"DEPARTMENT\": 0\n",
      "Missing data in column \"BRAND\": 0\n",
      "Missing data in column \"COMMODITY_DESC\": 0\n",
      "Missing data in column \"SUB_COMMODITY_DESC\": 0\n",
      "Missing data in column \"CURR_SIZE_OF_PRODUCT\": 0\n"
     ]
    }
   ],
   "source": [
    "# Check for missing (null/na) data in \"product\"\n",
    "for c in product.columns:\n",
    "    print('Missing data in column \"{}\": {}'.format(c,sum(product[c].isnull())))"
   ]
  },
  {
   "cell_type": "code",
   "execution_count": 24,
   "metadata": {},
   "outputs": [
    {
     "name": "stdout",
     "output_type": "stream",
     "text": [
      "Number of empty entries in \"CURR_SIZE_OF_PRODUCT\": 30607\n"
     ]
    }
   ],
   "source": [
    "# However, we know that many entries in the last column are empty\n",
    "print('Number of empty entries in \"CURR_SIZE_OF_PRODUCT\": {}'.format((product.CURR_SIZE_OF_PRODUCT==' ').sum()))"
   ]
  },
  {
   "cell_type": "markdown",
   "metadata": {},
   "source": [
    "Missing size of product is not a big deal as we may never use this column. However, there are products which are missing descriptions, so we have no idea what these product are. If we never learn what they are, there is little point is analyzing them economically either."
   ]
  },
  {
   "cell_type": "code",
   "execution_count": 25,
   "metadata": {},
   "outputs": [
    {
     "data": {
      "text/html": [
       "<div>\n",
       "<style scoped>\n",
       "    .dataframe tbody tr th:only-of-type {\n",
       "        vertical-align: middle;\n",
       "    }\n",
       "\n",
       "    .dataframe tbody tr th {\n",
       "        vertical-align: top;\n",
       "    }\n",
       "\n",
       "    .dataframe thead th {\n",
       "        text-align: right;\n",
       "    }\n",
       "</style>\n",
       "<table border=\"1\" class=\"dataframe\">\n",
       "  <thead>\n",
       "    <tr style=\"text-align: right;\">\n",
       "      <th></th>\n",
       "      <th>PRODUCT_ID</th>\n",
       "      <th>MANUFACTURER</th>\n",
       "      <th>DEPARTMENT</th>\n",
       "      <th>BRAND</th>\n",
       "      <th>COMMODITY_DESC</th>\n",
       "      <th>SUB_COMMODITY_DESC</th>\n",
       "      <th>CURR_SIZE_OF_PRODUCT</th>\n",
       "    </tr>\n",
       "  </thead>\n",
       "  <tbody>\n",
       "    <tr>\n",
       "      <td>52189</td>\n",
       "      <td>5126087</td>\n",
       "      <td>1</td>\n",
       "      <td></td>\n",
       "      <td>National</td>\n",
       "      <td></td>\n",
       "      <td></td>\n",
       "      <td></td>\n",
       "    </tr>\n",
       "    <tr>\n",
       "      <td>52190</td>\n",
       "      <td>5126088</td>\n",
       "      <td>1</td>\n",
       "      <td></td>\n",
       "      <td>National</td>\n",
       "      <td></td>\n",
       "      <td></td>\n",
       "      <td></td>\n",
       "    </tr>\n",
       "    <tr>\n",
       "      <td>52191</td>\n",
       "      <td>5126106</td>\n",
       "      <td>1</td>\n",
       "      <td></td>\n",
       "      <td>National</td>\n",
       "      <td></td>\n",
       "      <td></td>\n",
       "      <td></td>\n",
       "    </tr>\n",
       "    <tr>\n",
       "      <td>52192</td>\n",
       "      <td>5126107</td>\n",
       "      <td>1</td>\n",
       "      <td></td>\n",
       "      <td>National</td>\n",
       "      <td></td>\n",
       "      <td></td>\n",
       "      <td></td>\n",
       "    </tr>\n",
       "    <tr>\n",
       "      <td>55048</td>\n",
       "      <td>5977100</td>\n",
       "      <td>1</td>\n",
       "      <td></td>\n",
       "      <td>National</td>\n",
       "      <td></td>\n",
       "      <td></td>\n",
       "      <td></td>\n",
       "    </tr>\n",
       "  </tbody>\n",
       "</table>\n",
       "</div>"
      ],
      "text/plain": [
       "       PRODUCT_ID  MANUFACTURER DEPARTMENT     BRAND COMMODITY_DESC  \\\n",
       "52189     5126087             1             National                  \n",
       "52190     5126088             1             National                  \n",
       "52191     5126106             1             National                  \n",
       "52192     5126107             1             National                  \n",
       "55048     5977100             1             National                  \n",
       "\n",
       "      SUB_COMMODITY_DESC CURR_SIZE_OF_PRODUCT  \n",
       "52189                                          \n",
       "52190                                          \n",
       "52191                                          \n",
       "52192                                          \n",
       "55048                                          "
      ]
     },
     "execution_count": 25,
     "metadata": {},
     "output_type": "execute_result"
    }
   ],
   "source": [
    "# Find out which products are missing commodity descriptions\n",
    "missing_department  = product[product.DEPARTMENT==' ']\n",
    "missing_department.head()"
   ]
  },
  {
   "cell_type": "markdown",
   "metadata": {},
   "source": [
    "We suspect that these products may have already been taken care of when we removed transactions records with 0 quantities/sales value, which turns out to be true."
   ]
  },
  {
   "cell_type": "code",
   "execution_count": 26,
   "metadata": {},
   "outputs": [
    {
     "name": "stdout",
     "output_type": "stream",
     "text": [
      "[array([], dtype=float64), array([], dtype=float64), array([], dtype=float64), array([], dtype=float64), array([], dtype=float64), array([], dtype=float64), array([], dtype=float64), array([], dtype=float64), array([], dtype=float64), array([], dtype=float64), array([], dtype=float64), array([], dtype=float64), array([], dtype=float64), array([], dtype=float64), array([], dtype=float64)]\n"
     ]
    }
   ],
   "source": [
    "# Verify this hypothesis\n",
    "sales = [transaction_data[transaction_data.PRODUCT_ID == p].SALES_VALUE.unique() \\\n",
    "             for p in missing_department.PRODUCT_ID.unique()]\n",
    "print(sales) # everything is empty (i.e. not found)"
   ]
  },
  {
   "cell_type": "markdown",
   "metadata": {},
   "source": [
    "#### Creating transactions table for which we have householders information"
   ]
  },
  {
   "cell_type": "markdown",
   "metadata": {},
   "source": [
    "Here, we are interested in creating a new table of transactions where we remove the transactions for which we do not have any householder information, as this table would serve for further analyses."
   ]
  },
  {
   "cell_type": "code",
   "execution_count": 44,
   "metadata": {},
   "outputs": [
    {
     "data": {
      "text/plain": [
       "(801, 2500)"
      ]
     },
     "execution_count": 44,
     "metadata": {},
     "output_type": "execute_result"
    }
   ],
   "source": [
    "keys_hh = set(hh_demographic.household_key.values)\n",
    "keys_hh_tran = set(transaction_data.household_key.values)\n",
    "len(keys_hh), len(keys_hh_tran)"
   ]
  },
  {
   "cell_type": "code",
   "execution_count": 45,
   "metadata": {},
   "outputs": [],
   "source": [
    "# Removing transactions for which we don't have any householders information\n",
    "transaction_data_hh = transaction_data[transaction_data.household_key.isin(keys_hh)]"
   ]
  },
  {
   "cell_type": "code",
   "execution_count": 46,
   "metadata": {},
   "outputs": [
    {
     "data": {
      "text/plain": [
       "(2576814, 1416671)"
      ]
     },
     "execution_count": 46,
     "metadata": {},
     "output_type": "execute_result"
    }
   ],
   "source": [
    "# As we can see, we still have a good proportion of the transactions remaining\n",
    "len(transaction_data), len(transaction_data_hh)"
   ]
  },
  {
   "cell_type": "markdown",
   "metadata": {},
   "source": [
    "## Part III: Exploratory data analysis"
   ]
  },
  {
   "cell_type": "markdown",
   "metadata": {},
   "source": [
    "### A) Products' price and sales over time"
   ]
  },
  {
   "cell_type": "markdown",
   "metadata": {},
   "source": [
    "To analyze economic relationships later on, we need to look at each products' price and sales over time. One choice is to use `WEEK_NO` as discrete time points. As there are 2 years worth of data, this gives us about max. 100 points in time. However, the actual unit price for a given product may or may not be the same in the same week. We can deal with this by computing the weekly mean actual unit price."
   ]
  },
  {
   "cell_type": "code",
   "execution_count": 38,
   "metadata": {
    "scrolled": true
   },
   "outputs": [
    {
     "data": {
      "text/html": [
       "<div>\n",
       "<style scoped>\n",
       "    .dataframe tbody tr th:only-of-type {\n",
       "        vertical-align: middle;\n",
       "    }\n",
       "\n",
       "    .dataframe tbody tr th {\n",
       "        vertical-align: top;\n",
       "    }\n",
       "\n",
       "    .dataframe thead th {\n",
       "        text-align: right;\n",
       "    }\n",
       "</style>\n",
       "<table border=\"1\" class=\"dataframe\">\n",
       "  <thead>\n",
       "    <tr style=\"text-align: right;\">\n",
       "      <th></th>\n",
       "      <th>WEEK_NO</th>\n",
       "      <th>PRODUCT_ID</th>\n",
       "      <th>QUANTITY</th>\n",
       "      <th>AUP</th>\n",
       "    </tr>\n",
       "  </thead>\n",
       "  <tbody>\n",
       "    <tr>\n",
       "      <td>0</td>\n",
       "      <td>1</td>\n",
       "      <td>39592</td>\n",
       "      <td>2</td>\n",
       "      <td>3.39</td>\n",
       "    </tr>\n",
       "    <tr>\n",
       "      <td>1</td>\n",
       "      <td>1</td>\n",
       "      <td>1088112</td>\n",
       "      <td>2</td>\n",
       "      <td>1.29</td>\n",
       "    </tr>\n",
       "    <tr>\n",
       "      <td>2</td>\n",
       "      <td>1</td>\n",
       "      <td>1087347</td>\n",
       "      <td>1</td>\n",
       "      <td>0.25</td>\n",
       "    </tr>\n",
       "    <tr>\n",
       "      <td>3</td>\n",
       "      <td>1</td>\n",
       "      <td>1087106</td>\n",
       "      <td>1</td>\n",
       "      <td>3.49</td>\n",
       "    </tr>\n",
       "    <tr>\n",
       "      <td>4</td>\n",
       "      <td>1</td>\n",
       "      <td>1086727</td>\n",
       "      <td>1</td>\n",
       "      <td>5.99</td>\n",
       "    </tr>\n",
       "  </tbody>\n",
       "</table>\n",
       "</div>"
      ],
      "text/plain": [
       "   WEEK_NO  PRODUCT_ID  QUANTITY   AUP\n",
       "0        1       39592         2  3.39\n",
       "1        1     1088112         2  1.29\n",
       "2        1     1087347         1  0.25\n",
       "3        1     1087106         1  3.49\n",
       "4        1     1086727         1  5.99"
      ]
     },
     "execution_count": 38,
     "metadata": {},
     "output_type": "execute_result"
    }
   ],
   "source": [
    "# Filter columns we do not need\n",
    "filtered_trans = transaction_data[['WEEK_NO','PRODUCT_ID','QUANTITY','AUP']].copy()\n",
    "\n",
    "# Compute mean AUP per product per week\n",
    "quantity_sum = filtered_trans.groupby(['WEEK_NO','PRODUCT_ID']).agg('sum')['QUANTITY']\n",
    "mean_aup = filtered_trans.groupby(['WEEK_NO','PRODUCT_ID']).agg('mean')['AUP']\n",
    "\n",
    "# Create the dataframe to analyze in further sections of this notebook\n",
    "df = pd.concat([quantity_sum, mean_aup], axis=1).reset_index()   # Unravels the multi-index into columns\n",
    "df = df.sort_values(by='WEEK_NO', axis=0).reset_index(drop=True) # Sort chronologically\n",
    "df.head()"
   ]
  },
  {
   "cell_type": "markdown",
   "metadata": {},
   "source": [
    "Not all products are bought regularly. So we need to find out which are scarcely purchased."
   ]
  },
  {
   "cell_type": "code",
   "execution_count": 39,
   "metadata": {},
   "outputs": [],
   "source": [
    "# Not all products are bought regularly, we find out which products are \"scarcely\" purchased below\n",
    "num_weekly_trans = Counter(df.PRODUCT_ID)"
   ]
  },
  {
   "cell_type": "code",
   "execution_count": 40,
   "metadata": {},
   "outputs": [
    {
     "data": {
      "image/png": "[encoded data removed]",
      "text/plain": [
       "<Figure size 720x432 with 1 Axes>"
      ]
     },
     "metadata": {
      "needs_background": "light"
     },
     "output_type": "display_data"
    }
   ],
   "source": [
    "# Visualize the scarcity of purchases\n",
    "fig = plt.figure(figsize=(10,6))\n",
    "plt.violinplot(num_weekly_trans.values())\n",
    "plt.title('Total count of weeks in which each product was purchased (2 years)')\n",
    "plt.ylabel('Count')\n",
    "plt.show()"
   ]
  },
  {
   "cell_type": "code",
   "execution_count": 41,
   "metadata": {},
   "outputs": [
    {
     "name": "stdout",
     "output_type": "stream",
     "text": [
      "% of products bought only once in 2 years: 37%\n",
      "% of products bought only twice in 2 years: 13%\n"
     ]
    }
   ],
   "source": [
    "# Find out how many products are bought just once\n",
    "products_bought_once = [x for x,c in num_weekly_trans.items() if c == 1]\n",
    "products_bought_twice = [x for x,c in num_weekly_trans.items() if c == 2]\n",
    "print('% of products bought only once in 2 years: {0:.0f}%'.format(100*len(products_bought_once)/len(num_weekly_trans)))\n",
    "print('% of products bought only twice in 2 years: {0:.0f}%'.format(100*len(products_bought_twice)/len(num_weekly_trans)))"
   ]
  },
  {
   "cell_type": "markdown",
   "metadata": {},
   "source": [
    "We now know that exactly 50% of all products have been bought only once or twice in 2 years. This is problematic because we expect that in reality some products are necessity good i.e. bought on a weekly basis like food and vegetables, but the above suggests that there are almost no such products."
   ]
  },
  {
   "cell_type": "code",
   "execution_count": 42,
   "metadata": {},
   "outputs": [
    {
     "data": {
      "text/html": [
       "<div>\n",
       "<style scoped>\n",
       "    .dataframe tbody tr th:only-of-type {\n",
       "        vertical-align: middle;\n",
       "    }\n",
       "\n",
       "    .dataframe tbody tr th {\n",
       "        vertical-align: top;\n",
       "    }\n",
       "\n",
       "    .dataframe thead th {\n",
       "        text-align: right;\n",
       "    }\n",
       "</style>\n",
       "<table border=\"1\" class=\"dataframe\">\n",
       "  <thead>\n",
       "    <tr style=\"text-align: right;\">\n",
       "      <th></th>\n",
       "      <th>PRODUCT_ID</th>\n",
       "      <th>MANUFACTURER</th>\n",
       "      <th>DEPARTMENT</th>\n",
       "      <th>BRAND</th>\n",
       "      <th>COMMODITY_DESC</th>\n",
       "      <th>SUB_COMMODITY_DESC</th>\n",
       "      <th>CURR_SIZE_OF_PRODUCT</th>\n",
       "    </tr>\n",
       "  </thead>\n",
       "  <tbody>\n",
       "    <tr>\n",
       "      <td>383</td>\n",
       "      <td>39592</td>\n",
       "      <td>69</td>\n",
       "      <td>DRUG GM</td>\n",
       "      <td>Private</td>\n",
       "      <td>SOAP - LIQUID &amp; BAR</td>\n",
       "      <td>BAR SOAP</td>\n",
       "      <td>25.5 OZ</td>\n",
       "    </tr>\n",
       "    <tr>\n",
       "      <td>36127</td>\n",
       "      <td>1087347</td>\n",
       "      <td>544</td>\n",
       "      <td>GROCERY</td>\n",
       "      <td>National</td>\n",
       "      <td>BAG SNACKS</td>\n",
       "      <td>SGL SV/VEND MACH SNACKS CHIP/P</td>\n",
       "      <td>.875 OZ</td>\n",
       "    </tr>\n",
       "    <tr>\n",
       "      <td>36541</td>\n",
       "      <td>1090975</td>\n",
       "      <td>58</td>\n",
       "      <td>DRUG GM</td>\n",
       "      <td>National</td>\n",
       "      <td>CANDY - PACKAGED</td>\n",
       "      <td>SEASONAL CANDY BAGS-CHOCOLATE</td>\n",
       "      <td>12 OZ</td>\n",
       "    </tr>\n",
       "    <tr>\n",
       "      <td>34580</td>\n",
       "      <td>1073745</td>\n",
       "      <td>693</td>\n",
       "      <td>DRUG GM</td>\n",
       "      <td>National</td>\n",
       "      <td>CANDY - PACKAGED</td>\n",
       "      <td>SEASONAL MISCELLANEOUS</td>\n",
       "      <td>6 PK</td>\n",
       "    </tr>\n",
       "    <tr>\n",
       "      <td>34529</td>\n",
       "      <td>1073191</td>\n",
       "      <td>58</td>\n",
       "      <td>DRUG GM</td>\n",
       "      <td>National</td>\n",
       "      <td>CANDY - PACKAGED</td>\n",
       "      <td>SEASONAL CANDY BAGS-CHOCOLATE</td>\n",
       "      <td>12 OZ</td>\n",
       "    </tr>\n",
       "  </tbody>\n",
       "</table>\n",
       "</div>"
      ],
      "text/plain": [
       "       PRODUCT_ID  MANUFACTURER DEPARTMENT     BRAND       COMMODITY_DESC  \\\n",
       "383         39592            69    DRUG GM   Private  SOAP - LIQUID & BAR   \n",
       "36127     1087347           544    GROCERY  National           BAG SNACKS   \n",
       "36541     1090975            58    DRUG GM  National     CANDY - PACKAGED   \n",
       "34580     1073745           693    DRUG GM  National     CANDY - PACKAGED   \n",
       "34529     1073191            58    DRUG GM  National     CANDY - PACKAGED   \n",
       "\n",
       "                   SUB_COMMODITY_DESC CURR_SIZE_OF_PRODUCT  \n",
       "383                          BAR SOAP              25.5 OZ  \n",
       "36127  SGL SV/VEND MACH SNACKS CHIP/P              .875 OZ  \n",
       "36541   SEASONAL CANDY BAGS-CHOCOLATE                12 OZ  \n",
       "34580          SEASONAL MISCELLANEOUS                 6 PK  \n",
       "34529   SEASONAL CANDY BAGS-CHOCOLATE                12 OZ  "
      ]
     },
     "execution_count": 42,
     "metadata": {},
     "output_type": "execute_result"
    }
   ],
   "source": [
    "# Look at what some of these scarce products are\n",
    "tmp = pd.DataFrame()\n",
    "for i in range(5):\n",
    "    id = products_bought_once[i]\n",
    "    tmp = pd.concat([tmp, product[product.PRODUCT_ID==id]], axis=0)\n",
    "tmp"
   ]
  },
  {
   "cell_type": "markdown",
   "metadata": {},
   "source": [
    "We can notice the third and the last items, despite having everthing equal, are somehow treated as separate products. So it's worth looking at all products from manufacturer number 58."
   ]
  },
  {
   "cell_type": "code",
   "execution_count": 43,
   "metadata": {
    "scrolled": true
   },
   "outputs": [
    {
     "data": {
      "text/html": [
       "<div>\n",
       "<style scoped>\n",
       "    .dataframe tbody tr th:only-of-type {\n",
       "        vertical-align: middle;\n",
       "    }\n",
       "\n",
       "    .dataframe tbody tr th {\n",
       "        vertical-align: top;\n",
       "    }\n",
       "\n",
       "    .dataframe thead th {\n",
       "        text-align: right;\n",
       "    }\n",
       "</style>\n",
       "<table border=\"1\" class=\"dataframe\">\n",
       "  <thead>\n",
       "    <tr style=\"text-align: right;\">\n",
       "      <th></th>\n",
       "      <th>PRODUCT_ID</th>\n",
       "      <th>MANUFACTURER</th>\n",
       "      <th>DEPARTMENT</th>\n",
       "      <th>BRAND</th>\n",
       "      <th>COMMODITY_DESC</th>\n",
       "      <th>SUB_COMMODITY_DESC</th>\n",
       "      <th>CURR_SIZE_OF_PRODUCT</th>\n",
       "    </tr>\n",
       "  </thead>\n",
       "  <tbody>\n",
       "    <tr>\n",
       "      <td>722</td>\n",
       "      <td>48451</td>\n",
       "      <td>58</td>\n",
       "      <td>DRUG GM</td>\n",
       "      <td>National</td>\n",
       "      <td>CANDY - CHECKLANE</td>\n",
       "      <td>CANDY BARS (SINGLES)(INCLUDING</td>\n",
       "      <td>1.4 OZ</td>\n",
       "    </tr>\n",
       "    <tr>\n",
       "      <td>4684</td>\n",
       "      <td>598890</td>\n",
       "      <td>58</td>\n",
       "      <td>DRUG GM</td>\n",
       "      <td>National</td>\n",
       "      <td>CANDY - CHECKLANE</td>\n",
       "      <td>CANDY BARS (SINGLES)(INCLUDING</td>\n",
       "      <td></td>\n",
       "    </tr>\n",
       "    <tr>\n",
       "      <td>6648</td>\n",
       "      <td>826099</td>\n",
       "      <td>58</td>\n",
       "      <td>DRUG GM</td>\n",
       "      <td>National</td>\n",
       "      <td>CANDY - PACKAGED</td>\n",
       "      <td>CANDY BARS (MULTI PACK)</td>\n",
       "      <td>6 PK</td>\n",
       "    </tr>\n",
       "    <tr>\n",
       "      <td>14247</td>\n",
       "      <td>893399</td>\n",
       "      <td>58</td>\n",
       "      <td>DRUG GM</td>\n",
       "      <td>National</td>\n",
       "      <td>CANDY - CHECKLANE</td>\n",
       "      <td>CANDY BARS (SINGLES)(INCLUDING</td>\n",
       "      <td></td>\n",
       "    </tr>\n",
       "    <tr>\n",
       "      <td>15038</td>\n",
       "      <td>900185</td>\n",
       "      <td>58</td>\n",
       "      <td>DRUG GM</td>\n",
       "      <td>National</td>\n",
       "      <td>CANDY - CHECKLANE</td>\n",
       "      <td>CANDY BARS (SINGLES)(INCLUDING</td>\n",
       "      <td>1.4 OZ</td>\n",
       "    </tr>\n",
       "    <tr>\n",
       "      <td>17167</td>\n",
       "      <td>918772</td>\n",
       "      <td>58</td>\n",
       "      <td>DRUG GM</td>\n",
       "      <td>National</td>\n",
       "      <td>CANDY - PACKAGED</td>\n",
       "      <td>CANDY BARS (MULTI PACK)</td>\n",
       "      <td>6 PK</td>\n",
       "    </tr>\n",
       "    <tr>\n",
       "      <td>24520</td>\n",
       "      <td>984087</td>\n",
       "      <td>58</td>\n",
       "      <td>DRUG GM</td>\n",
       "      <td>National</td>\n",
       "      <td>CANDY - CHECKLANE</td>\n",
       "      <td>CANDY BARS (SINGLES)(INCLUDING</td>\n",
       "      <td></td>\n",
       "    </tr>\n",
       "    <tr>\n",
       "      <td>28439</td>\n",
       "      <td>1018679</td>\n",
       "      <td>58</td>\n",
       "      <td>DRUG GM</td>\n",
       "      <td>National</td>\n",
       "      <td>CANDY - PACKAGED</td>\n",
       "      <td>CANDY BARS (SINGLES)(INCLUDING</td>\n",
       "      <td>4 OZ</td>\n",
       "    </tr>\n",
       "    <tr>\n",
       "      <td>32641</td>\n",
       "      <td>1056014</td>\n",
       "      <td>58</td>\n",
       "      <td>DRUG GM</td>\n",
       "      <td>National</td>\n",
       "      <td>CANDY - CHECKLANE</td>\n",
       "      <td>CANDY BARS (SINGLES)(INCLUDING</td>\n",
       "      <td></td>\n",
       "    </tr>\n",
       "    <tr>\n",
       "      <td>36754</td>\n",
       "      <td>1092948</td>\n",
       "      <td>58</td>\n",
       "      <td>DRUG GM</td>\n",
       "      <td>National</td>\n",
       "      <td>CANDY - CHECKLANE</td>\n",
       "      <td>CANDY BARS (SINGLES)(INCLUDING</td>\n",
       "      <td>1.85 OZ</td>\n",
       "    </tr>\n",
       "  </tbody>\n",
       "</table>\n",
       "</div>"
      ],
      "text/plain": [
       "       PRODUCT_ID  MANUFACTURER DEPARTMENT     BRAND     COMMODITY_DESC  \\\n",
       "722         48451            58    DRUG GM  National  CANDY - CHECKLANE   \n",
       "4684       598890            58    DRUG GM  National  CANDY - CHECKLANE   \n",
       "6648       826099            58    DRUG GM  National   CANDY - PACKAGED   \n",
       "14247      893399            58    DRUG GM  National  CANDY - CHECKLANE   \n",
       "15038      900185            58    DRUG GM  National  CANDY - CHECKLANE   \n",
       "17167      918772            58    DRUG GM  National   CANDY - PACKAGED   \n",
       "24520      984087            58    DRUG GM  National  CANDY - CHECKLANE   \n",
       "28439     1018679            58    DRUG GM  National   CANDY - PACKAGED   \n",
       "32641     1056014            58    DRUG GM  National  CANDY - CHECKLANE   \n",
       "36754     1092948            58    DRUG GM  National  CANDY - CHECKLANE   \n",
       "\n",
       "                   SUB_COMMODITY_DESC CURR_SIZE_OF_PRODUCT  \n",
       "722    CANDY BARS (SINGLES)(INCLUDING               1.4 OZ  \n",
       "4684   CANDY BARS (SINGLES)(INCLUDING                       \n",
       "6648          CANDY BARS (MULTI PACK)                 6 PK  \n",
       "14247  CANDY BARS (SINGLES)(INCLUDING                       \n",
       "15038  CANDY BARS (SINGLES)(INCLUDING               1.4 OZ  \n",
       "17167         CANDY BARS (MULTI PACK)                 6 PK  \n",
       "24520  CANDY BARS (SINGLES)(INCLUDING                       \n",
       "28439  CANDY BARS (SINGLES)(INCLUDING                 4 OZ  \n",
       "32641  CANDY BARS (SINGLES)(INCLUDING                       \n",
       "36754  CANDY BARS (SINGLES)(INCLUDING              1.85 OZ  "
      ]
     },
     "execution_count": 43,
     "metadata": {},
     "output_type": "execute_result"
    }
   ],
   "source": [
    "# Look at all candy products made by manufacturer 58\n",
    "is_candy_bar = product[product.MANUFACTURER == 58]['SUB_COMMODITY_DESC'].apply(lambda x: 'CANDY BAR' in x)\n",
    "\n",
    "product[(product.MANUFACTURER == 58) & (is_candy_bar)].head(10)"
   ]
  },
  {
   "cell_type": "markdown",
   "metadata": {},
   "source": [
    "These are just ten items which, despite being candy bars from the same manufacturer, are all unique products. Therefore, it will be useful to analyze, not each product id, but each `SUB_COMMODITY_DESC` category -- lowest granularity available -- for further analysis. We note that while this will still allow us to do meaningful estimation of complementary relationships between categories, competing relationships will no longer be as meaningful since competition is more often discovered *within* each category (but we have removed this possibility by grouping by `SUB_COMMODITY_DESC`). Nevertheless, we can still pursue other research questions such as \"how does income of household affect consumption?\" or \"are there significant differences in consumption based on how many children a household has?\""
   ]
  },
  {
   "cell_type": "code",
   "execution_count": 47,
   "metadata": {},
   "outputs": [
    {
     "data": {
      "text/html": [
       "<div>\n",
       "<style scoped>\n",
       "    .dataframe tbody tr th:only-of-type {\n",
       "        vertical-align: middle;\n",
       "    }\n",
       "\n",
       "    .dataframe tbody tr th {\n",
       "        vertical-align: top;\n",
       "    }\n",
       "\n",
       "    .dataframe thead th {\n",
       "        text-align: right;\n",
       "    }\n",
       "</style>\n",
       "<table border=\"1\" class=\"dataframe\">\n",
       "  <thead>\n",
       "    <tr style=\"text-align: right;\">\n",
       "      <th></th>\n",
       "      <th>WEEK_NO</th>\n",
       "      <th>PRODUCT_ID</th>\n",
       "      <th>QUANTITY</th>\n",
       "      <th>AUP</th>\n",
       "      <th>MANUFACTURER</th>\n",
       "      <th>DEPARTMENT</th>\n",
       "      <th>BRAND</th>\n",
       "      <th>COMMODITY_DESC</th>\n",
       "      <th>SUB_COMMODITY_DESC</th>\n",
       "      <th>CURR_SIZE_OF_PRODUCT</th>\n",
       "    </tr>\n",
       "  </thead>\n",
       "  <tbody>\n",
       "    <tr>\n",
       "      <td>0</td>\n",
       "      <td>1</td>\n",
       "      <td>39592</td>\n",
       "      <td>2</td>\n",
       "      <td>3.39</td>\n",
       "      <td>69</td>\n",
       "      <td>DRUG GM</td>\n",
       "      <td>Private</td>\n",
       "      <td>SOAP - LIQUID &amp; BAR</td>\n",
       "      <td>BAR SOAP</td>\n",
       "      <td>25.5 OZ</td>\n",
       "    </tr>\n",
       "    <tr>\n",
       "      <td>1</td>\n",
       "      <td>1</td>\n",
       "      <td>1088112</td>\n",
       "      <td>2</td>\n",
       "      <td>1.29</td>\n",
       "      <td>5136</td>\n",
       "      <td>GROCERY</td>\n",
       "      <td>National</td>\n",
       "      <td>VEGETABLES - SHELF STABLE</td>\n",
       "      <td>SPINACH &amp; GREENS</td>\n",
       "      <td>14 OZ</td>\n",
       "    </tr>\n",
       "    <tr>\n",
       "      <td>2</td>\n",
       "      <td>1</td>\n",
       "      <td>1087347</td>\n",
       "      <td>1</td>\n",
       "      <td>0.25</td>\n",
       "      <td>544</td>\n",
       "      <td>GROCERY</td>\n",
       "      <td>National</td>\n",
       "      <td>BAG SNACKS</td>\n",
       "      <td>SGL SV/VEND MACH SNACKS CHIP/P</td>\n",
       "      <td>.875 OZ</td>\n",
       "    </tr>\n",
       "    <tr>\n",
       "      <td>3</td>\n",
       "      <td>1</td>\n",
       "      <td>1087106</td>\n",
       "      <td>1</td>\n",
       "      <td>3.49</td>\n",
       "      <td>1441</td>\n",
       "      <td>PRODUCE</td>\n",
       "      <td>National</td>\n",
       "      <td>PROCESSED</td>\n",
       "      <td>DRESSINGS</td>\n",
       "      <td>15 OZ</td>\n",
       "    </tr>\n",
       "    <tr>\n",
       "      <td>4</td>\n",
       "      <td>1</td>\n",
       "      <td>1086727</td>\n",
       "      <td>1</td>\n",
       "      <td>5.99</td>\n",
       "      <td>764</td>\n",
       "      <td>GROCERY</td>\n",
       "      <td>National</td>\n",
       "      <td>LAUNDRY ADDITIVES</td>\n",
       "      <td>FABRIC SOFTENER SHEETS</td>\n",
       "      <td>120 CT</td>\n",
       "    </tr>\n",
       "  </tbody>\n",
       "</table>\n",
       "</div>"
      ],
      "text/plain": [
       "   WEEK_NO  PRODUCT_ID  QUANTITY   AUP  MANUFACTURER DEPARTMENT     BRAND  \\\n",
       "0        1       39592         2  3.39            69    DRUG GM   Private   \n",
       "1        1     1088112         2  1.29          5136    GROCERY  National   \n",
       "2        1     1087347         1  0.25           544    GROCERY  National   \n",
       "3        1     1087106         1  3.49          1441    PRODUCE  National   \n",
       "4        1     1086727         1  5.99           764    GROCERY  National   \n",
       "\n",
       "              COMMODITY_DESC              SUB_COMMODITY_DESC  \\\n",
       "0        SOAP - LIQUID & BAR                        BAR SOAP   \n",
       "1  VEGETABLES - SHELF STABLE                SPINACH & GREENS   \n",
       "2                 BAG SNACKS  SGL SV/VEND MACH SNACKS CHIP/P   \n",
       "3                  PROCESSED                       DRESSINGS   \n",
       "4          LAUNDRY ADDITIVES          FABRIC SOFTENER SHEETS   \n",
       "\n",
       "  CURR_SIZE_OF_PRODUCT  \n",
       "0              25.5 OZ  \n",
       "1                14 OZ  \n",
       "2              .875 OZ  \n",
       "3                15 OZ  \n",
       "4               120 CT  "
      ]
     },
     "execution_count": 47,
     "metadata": {},
     "output_type": "execute_result"
    }
   ],
   "source": [
    "# Join df with product to get commodity descriptions\n",
    "df_merged = df.join(product.set_index('PRODUCT_ID'), on='PRODUCT_ID', how='left')\n",
    "df_merged.head()"
   ]
  },
  {
   "cell_type": "code",
   "execution_count": 48,
   "metadata": {},
   "outputs": [
    {
     "name": "stdout",
     "output_type": "stream",
     "text": [
      "New shape:  (27453, 4)\n",
      "Number of unique \"products\" (commodities):  307\n"
     ]
    },
    {
     "data": {
      "text/html": [
       "<div>\n",
       "<style scoped>\n",
       "    .dataframe tbody tr th:only-of-type {\n",
       "        vertical-align: middle;\n",
       "    }\n",
       "\n",
       "    .dataframe tbody tr th {\n",
       "        vertical-align: top;\n",
       "    }\n",
       "\n",
       "    .dataframe thead th {\n",
       "        text-align: right;\n",
       "    }\n",
       "</style>\n",
       "<table border=\"1\" class=\"dataframe\">\n",
       "  <thead>\n",
       "    <tr style=\"text-align: right;\">\n",
       "      <th></th>\n",
       "      <th>WEEK_NO</th>\n",
       "      <th>COMMODITY_DESC</th>\n",
       "      <th>QUANTITY</th>\n",
       "      <th>AUP</th>\n",
       "    </tr>\n",
       "  </thead>\n",
       "  <tbody>\n",
       "    <tr>\n",
       "      <td>0</td>\n",
       "      <td>1</td>\n",
       "      <td>ADULT INCONTINENCE</td>\n",
       "      <td>1</td>\n",
       "      <td>3.490</td>\n",
       "    </tr>\n",
       "    <tr>\n",
       "      <td>1</td>\n",
       "      <td>1</td>\n",
       "      <td>MELONS</td>\n",
       "      <td>2</td>\n",
       "      <td>2.290</td>\n",
       "    </tr>\n",
       "    <tr>\n",
       "      <td>2</td>\n",
       "      <td>1</td>\n",
       "      <td>MILK BY-PRODUCTS</td>\n",
       "      <td>26</td>\n",
       "      <td>2.055</td>\n",
       "    </tr>\n",
       "    <tr>\n",
       "      <td>3</td>\n",
       "      <td>1</td>\n",
       "      <td>MISC WINE</td>\n",
       "      <td>2</td>\n",
       "      <td>3.490</td>\n",
       "    </tr>\n",
       "    <tr>\n",
       "      <td>4</td>\n",
       "      <td>1</td>\n",
       "      <td>MISC. DAIRY</td>\n",
       "      <td>7</td>\n",
       "      <td>2.390</td>\n",
       "    </tr>\n",
       "  </tbody>\n",
       "</table>\n",
       "</div>"
      ],
      "text/plain": [
       "   WEEK_NO      COMMODITY_DESC  QUANTITY    AUP\n",
       "0        1  ADULT INCONTINENCE         1  3.490\n",
       "1        1              MELONS         2  2.290\n",
       "2        1    MILK BY-PRODUCTS        26  2.055\n",
       "3        1           MISC WINE         2  3.490\n",
       "4        1         MISC. DAIRY         7  2.390"
      ]
     },
     "execution_count": 48,
     "metadata": {},
     "output_type": "execute_result"
    }
   ],
   "source": [
    "# Again aggregate quantities and AUP\n",
    "quantity_sum = df_merged.groupby(['WEEK_NO','COMMODITY_DESC']).agg('sum')['QUANTITY']\n",
    "mean_aup = df_merged.groupby(['WEEK_NO','COMMODITY_DESC']).agg('mean')['AUP']\n",
    "\n",
    "df_merged = pd.concat([quantity_sum, mean_aup], axis = 1).reset_index()   # Unravels the multiindex into columns\n",
    "df_merged = df_merged.sort_values(by='WEEK_NO', axis = 0).reset_index(drop=True) # Sort chronologically\n",
    "print('New shape: ', df_merged.shape)\n",
    "# print('Number of unique \"products\" (subcommodities): ', len(df_merged.SUB_COMMODITY_DESC.unique()))\n",
    "print('Number of unique \"products\" (commodities): ', len(df_merged.COMMODITY_DESC.unique()))\n",
    "df_merged.head()"
   ]
  },
  {
   "cell_type": "code",
   "execution_count": 49,
   "metadata": {},
   "outputs": [
    {
     "data": {
      "image/png": "[encoded data removed]",
      "text/plain": [
       "<Figure size 720x432 with 1 Axes>"
      ]
     },
     "metadata": {
      "needs_background": "light"
     },
     "output_type": "display_data"
    }
   ],
   "source": [
    "# Visualize the weekly puchases again\n",
    "num_weekly_trans_merged = Counter(df_merged.COMMODITY_DESC)\n",
    "fig = plt.figure(figsize = (10,6))\n",
    "plt.violinplot(num_weekly_trans_merged.values())\n",
    "plt.title('Total count of weeks in which each commodity was purchased (2 years)')\n",
    "plt.ylabel('Count')\n",
    "plt.show()"
   ]
  },
  {
   "cell_type": "markdown",
   "metadata": {},
   "source": [
    "This distribution is a lot more representative of the reality for a few reasons. First, we have many \"products\" which are bought almost on a weekly basis. Some examples could be pizza or pancake mix. In the middle we have several \"products\" which are bought equally frequently, on a more or less biweekly basis. Then we still have some, but considerably fewer, non-common goods which are scarcely bought such as a tricycle or barbeque grills."
   ]
  },
  {
   "cell_type": "code",
   "execution_count": 50,
   "metadata": {},
   "outputs": [
    {
     "name": "stdout",
     "output_type": "stream",
     "text": [
      "Ten items which are bought weekly: \n",
      " ['MELONS', 'MILK BY-PRODUCTS', 'MISC WINE', 'MISC. DAIRY', 'MISCELLANEOUS', 'MOLASSES/SYRUP/PANCAKE MIXS', 'MUSHROOMS', 'NO COMMODITY DESCRIPTION', 'OLIVES', 'ONIONS']\n",
      "\n",
      "Ten items which are bought rarely: \n",
      " ['MISCELLANEOUS(CORP USE ONLY)', 'EASTER LILY', 'MISCELLANEOUS CROUTONS', 'FROZEN PACKAGE MEAT']\n"
     ]
    }
   ],
   "source": [
    "# Find which products are bought almost every week\n",
    "weekly_bought_products = [x for x,y in OrderedDict(num_weekly_trans_merged).items() if y >= 102]\n",
    "print('Ten items which are bought weekly: \\n', weekly_bought_products[:10])\n",
    "\n",
    "# Find whici products are bought rarely\n",
    "rare_products = [x for x,y in OrderedDict(num_weekly_trans_merged).items() if y < 2]\n",
    "print('\\nTen items which are bought rarely: \\n', rare_products[:10])"
   ]
  },
  {
   "cell_type": "code",
   "execution_count": 51,
   "metadata": {},
   "outputs": [
    {
     "data": {
      "image/png": "[encoded data removed]",
      "text/plain": [
       "<Figure size 1152x432 with 1 Axes>"
      ]
     },
     "metadata": {
      "needs_background": "light"
     },
     "output_type": "display_data"
    }
   ],
   "source": [
    "# Find most bought products over 2 years\n",
    "qty_sorted = df_merged.groupby('COMMODITY_DESC').agg('sum')['QUANTITY'].sort_values(ascending = False)\n",
    "N = 20\n",
    "fig,ax = plt.subplots(figsize = (16,6))\n",
    "ax.bar(np.arange(0,N,1), qty_sorted.iloc[1:N+1].values)\n",
    "ax.set_xticks(np.arange(0,N,1))\n",
    "ax.set_xticklabels(qty_sorted.index[1:N+1],rotation = 80)\n",
    "ax.set_ylabel('Number of purchases')\n",
    "ax.set_title('Top 20 purchases (by quantity) over 2 years in descending order')\n",
    "plt.show()"
   ]
  },
  {
   "cell_type": "markdown",
   "metadata": {},
   "source": [
    "Above excludes gasoline since its 'quantities sold' are overwhemingly high compared to the rest.\n",
    "\n",
    "An interesting finding is that products which are bought regularly are not necessarily among the top 20 most bought products. Additionally, we may still be able to analyze competing relationships, despite grouping by subcommpodities. For example, in the top 20 ranking above, \"SOFT DRINKS\" products can come in either cans or in powder pouches. It would be interesting to see if these are competing choices, for instance."
   ]
  },
  {
   "cell_type": "markdown",
   "metadata": {},
   "source": [
    "### B) Measuring price elasticity of demand\n",
    "First, we can measure each products' *elasticity of demand*, which describes the **percent change in quantity demanded followed by 1% change in its price**. To this end, we can follow these steps:\n",
    "1. Select a product and filter the dataframe for its unique ID (`PRODUCT_ID` column).\n",
    "2. Compute the elasticities between every pair of adjacent discrete time points (using `WEEK_NO`), which will produce X number of values. \n",
    "3. Produce an average of X elasticities. \n",
    "4. Repeat for all other products."
   ]
  },
  {
   "cell_type": "code",
   "execution_count": 52,
   "metadata": {},
   "outputs": [],
   "source": [
    "# Let's compute the price elasticity of demand for a few products\n",
    "product_elasticity = {}\n",
    "\n",
    "for item in df_merged.COMMODITY_DESC.unique()[:10]:\n",
    "    item_df = df_merged[df_merged.COMMODITY_DESC == item]\n",
    "    item_elasticity = []\n",
    "    \n",
    "    num_weeks = len(item_df)\n",
    "    if num_weeks > 1:\n",
    "        previous_week = item_df.iloc[0]\n",
    "        for i in range(num_weeks):\n",
    "            current_week = item_df.iloc[i]\n",
    "            \n",
    "            if current_week.AUP != previous_week.AUP:\n",
    "                percent_price_change = (current_week.AUP / previous_week.AUP - 1) * 100\n",
    "                elasticity = (current_week.QUANTITY / previous_week.QUANTITY - 1)  * 100 / percent_price_change\n",
    "                item_elasticity.append(elasticity)\n",
    "            \n",
    "            previous_week = current_week\n",
    "    \n",
    "    if len(item_elasticity) > 0:\n",
    "        product_elasticity[item] = np.mean(item_elasticity)"
   ]
  },
  {
   "cell_type": "code",
   "execution_count": 53,
   "metadata": {},
   "outputs": [
    {
     "data": {
      "text/plain": [
       "{'ADULT INCONTINENCE': 1.1697906608476794,\n",
       " 'MELONS': 157858131268647.8,\n",
       " 'MILK BY-PRODUCTS': -11.31634872479654,\n",
       " 'MISC WINE': -7.632926532032537,\n",
       " 'MISC. DAIRY': -19988663419534.56,\n",
       " 'MISCELLANEOUS': 0.03245405040356183,\n",
       " 'MOLASSES/SYRUP/PANCAKE MIXS': -3.8612535941506096,\n",
       " 'MUSHROOMS': -0.05175853794461483,\n",
       " 'NO COMMODITY DESCRIPTION': -0.419492170995051,\n",
       " 'OLIVES': 29.81663138881084}"
      ]
     },
     "execution_count": 53,
     "metadata": {},
     "output_type": "execute_result"
    }
   ],
   "source": [
    "product_elasticity"
   ]
  },
  {
   "cell_type": "markdown",
   "metadata": {},
   "source": [
    "Using the initially proposed method, we find that there is so much variation in the data that the elasticities do not make any sense. As an alternative, let's try to *group by AUP*, take the mean quantities for each AUP and perform linear regression. The slope of the linear regression model will describe the average change in quantities with price and hence yields a natural interpretation of elasticity."
   ]
  },
  {
   "cell_type": "code",
   "execution_count": 54,
   "metadata": {},
   "outputs": [],
   "source": [
    "def plot_price_and_quantity(item):\n",
    "    item_df = df_merged[df_merged.COMMODITY_DESC == item]\n",
    "    y = item_df.groupby('AUP').agg('mean')['QUANTITY']\n",
    "    x = y.index\n",
    "    plt.figure(figsize=(10, 3))\n",
    "    plt.title(item + ' elasticity')\n",
    "    plt.scatter(x, y)\n",
    "    plt.xlabel('AUP')\n",
    "    plt.ylabel('QUANTITY')\n",
    "    \n",
    "    line_fit = np.polyfit(x, y, 1)\n",
    "    line = np.poly1d(line_fit)\n",
    "    \n",
    "    # Compute elasticity\n",
    "    min_price = np.unique(x).min()\n",
    "    max_price = np.unique(x).max()\n",
    "    min_qty = line(min_price)\n",
    "    max_qty = line(max_price)\n",
    "    \n",
    "    percent_price_increase = (max_price / min_price - 1) * 100\n",
    "    elasticity = (max_qty / min_qty - 1) * 100 / percent_price_increase\n",
    "    \n",
    "    plt.title(item + '\\nElasticity: ' + str(np.round(elasticity, 2)))\n",
    "    \n",
    "    plt.plot(np.unique(x), np.poly1d(line_fit)(np.unique(x)), color='red')"
   ]
  },
  {
   "cell_type": "code",
   "execution_count": 55,
   "metadata": {},
   "outputs": [
    {
     "data": {
      "text/plain": [
       "array(['ADULT INCONTINENCE', 'MELONS', 'MILK BY-PRODUCTS', 'MISC WINE',\n",
       "       'MISC. DAIRY', 'MISCELLANEOUS', 'MOLASSES/SYRUP/PANCAKE MIXS',\n",
       "       'MUSHROOMS', 'NO COMMODITY DESCRIPTION', 'OLIVES', 'ONIONS',\n",
       "       'ORAL HYGIENE PRODUCTS', 'ORGANICS FRUIT & VEGETABLES',\n",
       "       'PAPER HOUSEWARES', 'PAPER TOWELS', 'PASTA SAUCE', 'PEPPERS-ALL',\n",
       "       'PET CARE SUPPLIES', 'PICKLE/RELISH/PKLD VEG', 'PIES'],\n",
       "      dtype=object)"
      ]
     },
     "execution_count": 55,
     "metadata": {},
     "output_type": "execute_result"
    }
   ],
   "source": [
    "df_merged.COMMODITY_DESC.unique()[:20]"
   ]
  },
  {
   "cell_type": "code",
   "execution_count": 56,
   "metadata": {},
   "outputs": [
    {
     "data": {
      "image/png": "[encoded data removed]",
      "text/plain": [
       "<Figure size 720x216 with 1 Axes>"
      ]
     },
     "metadata": {
      "needs_background": "light"
     },
     "output_type": "display_data"
    }
   ],
   "source": [
    "plot_price_and_quantity('MISC WINE')"
   ]
  },
  {
   "cell_type": "code",
   "execution_count": 57,
   "metadata": {},
   "outputs": [
    {
     "data": {
      "image/png": "[encoded data removed]",
      "text/plain": [
       "<Figure size 720x216 with 1 Axes>"
      ]
     },
     "metadata": {
      "needs_background": "light"
     },
     "output_type": "display_data"
    }
   ],
   "source": [
    "plot_price_and_quantity('PASTA SAUCE')"
   ]
  },
  {
   "cell_type": "code",
   "execution_count": 58,
   "metadata": {},
   "outputs": [
    {
     "data": {
      "image/png": "[encoded data removed]",
      "text/plain": [
       "<Figure size 720x216 with 1 Axes>"
      ]
     },
     "metadata": {
      "needs_background": "light"
     },
     "output_type": "display_data"
    }
   ],
   "source": [
    "plot_price_and_quantity('PAPER TOWELS')"
   ]
  },
  {
   "cell_type": "code",
   "execution_count": 59,
   "metadata": {},
   "outputs": [
    {
     "data": {
      "image/png": "[encoded data removed]",
      "text/plain": [
       "<Figure size 720x216 with 1 Axes>"
      ]
     },
     "metadata": {
      "needs_background": "light"
     },
     "output_type": "display_data"
    }
   ],
   "source": [
    "plot_price_and_quantity('ONIONS')"
   ]
  },
  {
   "cell_type": "markdown",
   "metadata": {},
   "source": [
    "We can't have a very high confidence in the linear regressions because of the high frequency variation in the data.  \n",
    "To try and fix this, we compute the average quantity purchased in each price bin and then try a linear regression. \n",
    "Moreover, we try and use a common, alternative formula for computing elasticities, which is called the midpoint formula, to reduce the variation in elasticiticies.\n",
    "\n",
    "<img src=\"midpoint_method.jpeg\" style=\"width: 350px;\"/>"
   ]
  },
  {
   "cell_type": "code",
   "execution_count": 60,
   "metadata": {},
   "outputs": [],
   "source": [
    "def midpoint_elasticity(q1,q2,p1,p2):\n",
    "    percent_qty_change = (q2-q1)/((q1+q2)/2)\n",
    "    percent_prc_change = (p2-p1)/((p1+p2)/2)\n",
    "    return percent_qty_change/percent_prc_change\n",
    "\n",
    "def bin_price_and_quantity(item):\n",
    "    item_df = df_merged[df_merged.COMMODITY_DESC == item]\n",
    "    y = item_df.groupby('AUP').agg('mean')['QUANTITY']\n",
    "    x = y.index\n",
    "    quantities_sum, bins = np.histogram(x, bins=10, weights=y)\n",
    "    num_prices, _ = np.histogram(x, bins=10)\n",
    "    \n",
    "    # Remove empty bins\n",
    "    zero_idx = np.argwhere(np.array(quantities_sum) == 0)\n",
    "    zero_idx = zero_idx.reshape((zero_idx.size,))\n",
    "    quantities_sum = np.delete(quantities_sum, zero_idx)\n",
    "    num_prices = np.delete(num_prices, zero_idx)\n",
    "    \n",
    "    quantities = [s/t for s, t in zip(quantities_sum, num_prices)]\n",
    "    prices = [(s+t)/2 for s, t in zip(bins[:-1], bins[1:])]\n",
    "    prices = np.delete(prices, zero_idx)\n",
    "    return prices, quantities\n",
    "\n",
    "def plot_price_and_quantity_bin(item):\n",
    "    prices, quantities = bin_price_and_quantity(item)\n",
    "    \n",
    "    plt.figure(figsize=(10, 3))\n",
    "    plt.scatter(prices, quantities)\n",
    "    plt.xlabel('AUP')\n",
    "    plt.ylabel('QUANTITY')\n",
    "    \n",
    "    line_fit = np.polyfit(prices, quantities, 1)\n",
    "    line = np.poly1d(line_fit)\n",
    "    \n",
    "    # Compute elasticity\n",
    "    min_price = np.unique(prices).min()\n",
    "    max_price = np.unique(prices).max()\n",
    "    min_qty = line(min_price)\n",
    "    max_qty = line(max_price)\n",
    "    \n",
    "    percent_price_increase = (max_price / min_price - 1) * 100\n",
    "    elasticity = midpoint_elasticity(min_qty, max_qty, min_price, max_price)\n",
    "    \n",
    "    plt.title(item + '\\nElasticity: ' + str(np.round(elasticity, 2)))\n",
    "    plt.plot(np.unique(prices), line(np.unique(prices)), color='red')"
   ]
  },
  {
   "cell_type": "code",
   "execution_count": 61,
   "metadata": {},
   "outputs": [
    {
     "data": {
      "image/png": "[encoded data removed]",
      "text/plain": [
       "<Figure size 720x216 with 1 Axes>"
      ]
     },
     "metadata": {
      "needs_background": "light"
     },
     "output_type": "display_data"
    }
   ],
   "source": [
    "plot_price_and_quantity_bin('MISC WINE')"
   ]
  },
  {
   "cell_type": "code",
   "execution_count": 62,
   "metadata": {},
   "outputs": [
    {
     "data": {
      "image/png": "[encoded data removed]",
      "text/plain": [
       "<Figure size 720x216 with 1 Axes>"
      ]
     },
     "metadata": {
      "needs_background": "light"
     },
     "output_type": "display_data"
    }
   ],
   "source": [
    "plot_price_and_quantity_bin('PASTA SAUCE')"
   ]
  },
  {
   "cell_type": "code",
   "execution_count": 63,
   "metadata": {},
   "outputs": [
    {
     "data": {
      "image/png": "[encoded data removed]",
      "text/plain": [
       "<Figure size 720x216 with 1 Axes>"
      ]
     },
     "metadata": {
      "needs_background": "light"
     },
     "output_type": "display_data"
    }
   ],
   "source": [
    "plot_price_and_quantity_bin('PAPER TOWELS')"
   ]
  },
  {
   "cell_type": "code",
   "execution_count": 64,
   "metadata": {},
   "outputs": [
    {
     "data": {
      "image/png": "[encoded data removed]",
      "text/plain": [
       "<Figure size 720x216 with 1 Axes>"
      ]
     },
     "metadata": {
      "needs_background": "light"
     },
     "output_type": "display_data"
    }
   ],
   "source": [
    "plot_price_and_quantity_bin('ONIONS')"
   ]
  },
  {
   "cell_type": "markdown",
   "metadata": {},
   "source": [
    "The linear regression fit appears more reliable as mainly due to less variability of the observations within each product. Furthermore, the use of the midpoint formula helps avoid overstating the magnitudes of the elasticities.\n",
    "\n",
    "Now we consider more seriously the limitations of our dataset. In practice, reliable computations of price elasticities require many observations gathered over several years, especially for rarely purchased items. Computations with limited data points are bound to give high varying -- and probably inaccurate -- results if the dataset spans a short time. For example, to evaluate the price elasticity of a tricycle or a barbeque grill from our dataset, which only has a few points over two years, is largely meaningless as we cannot be confident in its measure. In other words, our dataset only limits us to analyze items which are \"common\" or \"somewhat common\".\n",
    "\n",
    "The notion of \"common\" is subject to personal interpretations, but we define it to be all items for which there are at least 27 observations in our datafarme (`df_merged`). This is because 27 observations imply that they had been purchased over a period of at least 6 months dispersed throughout the time span of our dataset (two years). Based on the second violinplot above, we still retain the majority of items in our dataset this way."
   ]
  },
  {
   "cell_type": "code",
   "execution_count": 65,
   "metadata": {},
   "outputs": [
    {
     "name": "stdout",
     "output_type": "stream",
     "text": [
      "Number of unique \"common\" items:  290\n",
      "Shape of filtered dataframe:  (27282, 4)\n"
     ]
    }
   ],
   "source": [
    "# Get items for which we have at least 27 observations\n",
    "weekly_item_count = Counter(df_merged.COMMODITY_DESC)\n",
    "common_goods = [x for x,c in weekly_item_count.items() if c >= 27]\n",
    "print('Number of unique \"common\" items: ', len(common_goods))\n",
    "\n",
    "# Filter dataframe on common goods\n",
    "df_filtered = df_merged.copy()\n",
    "for g in set(weekly_item_count.keys())-set(common_goods):\n",
    "    df_filtered = df_filtered[df_filtered.COMMODITY_DESC != g]\n",
    "\n",
    "print('Shape of filtered dataframe: ', df_filtered.shape)"
   ]
  },
  {
   "cell_type": "code",
   "execution_count": 66,
   "metadata": {},
   "outputs": [],
   "source": [
    "# Compute elasticities of all products\n",
    "elasticities = {}\n",
    "for g in df_filtered.COMMODITY_DESC.unique():\n",
    "    prcs, qtys = bin_price_and_quantity(g)\n",
    "    \n",
    "    # Fit linear regression\n",
    "    line_fit = np.polyfit(prcs, qtys, 1)\n",
    "    line = np.poly1d(line_fit)\n",
    "    \n",
    "    min_prc = np.unique(prcs).min()\n",
    "    max_prc = np.unique(prcs).max()\n",
    "    elasticities[g] = midpoint_elasticity(line(min_prc), line(max_prc), min_prc, max_prc)"
   ]
  },
  {
   "cell_type": "code",
   "execution_count": 67,
   "metadata": {},
   "outputs": [
    {
     "data": {
      "image/png": "[encoded data removed]",
      "text/plain": [
       "<Figure size 720x504 with 1 Axes>"
      ]
     },
     "metadata": {
      "needs_background": "light"
     },
     "output_type": "display_data"
    }
   ],
   "source": [
    "values = np.array([e for g,e in elasticities.items() if ~np.isnan(e)])\n",
    "fig = plt.figure(figsize = (10,7))\n",
    "plt.hist(values, bins = 15)\n",
    "plt.ylabel('Price elasticity of demand')\n",
    "plt.title('Distribution of price elasticities')\n",
    "plt.show()"
   ]
  },
  {
   "cell_type": "markdown",
   "metadata": {},
   "source": [
    "The majority of the products have elasticities close to 0. One striking observation of this distribution is that there are many products with positive elasticities. In principle, price elasticities of demand are always negative; this is because the law of demand states that when a good's price increases, its quantity demanded decreases. \n",
    "\n",
    "However, goods with positive elasticities do occur in real life and they are formally called the [Giffen products](https://www.investopedia.com/terms/g/giffen-good.asp). In reality, Giffen products are rare; however, given the limited time span of our dataset and the fact that our figures aren't economy-wide, this may be plausible. Giffen products tend to be low-budget, non-luxury goods with few available substitutes such as rice, potatos, wheat, soap, toilet paper, or even certain packaged meat items. \n",
    "\n",
    "Our guess is that if a product has a positive elasticity, then it is likely such a product."
   ]
  },
  {
   "cell_type": "code",
   "execution_count": 68,
   "metadata": {},
   "outputs": [],
   "source": [
    "# Get Giffen products (less than 1 can be argued to be non-significant i.e. inelastic)\n",
    "giffen_products = [g for g,e in elasticities.items() if e > 1] \n",
    "\n",
    "# Concatenate product descriptions into one large string\n",
    "document = ''\n",
    "counter = 0\n",
    "for g in giffen_products:\n",
    "    counter += 1\n",
    "    document += df_filtered[df_filtered.COMMODITY_DESC==g].COMMODITY_DESC.unique()[0].lower() + ' '"
   ]
  },
  {
   "cell_type": "code",
   "execution_count": 76,
   "metadata": {},
   "outputs": [
    {
     "name": "stderr",
     "output_type": "stream",
     "text": [
      "[nltk_data] Downloading package punkt to /home/frederic/nltk_data...\n",
      "[nltk_data]   Package punkt is already up-to-date!\n",
      "[nltk_data] Downloading package stopwords to\n",
      "[nltk_data]     /home/frederic/nltk_data...\n",
      "[nltk_data]   Unzipping corpora/stopwords.zip.\n"
     ]
    }
   ],
   "source": [
    "# Remove all special characters including punctuations\n",
    "txt = re.sub('[^0-9a-zA-Z]', ' ', document)\n",
    "\n",
    "# Remove reduncant spaces\n",
    "txt = re.sub(' +', ' ', txt)\n",
    "\n",
    "# Use gensim's simple preprocess to clean up further\n",
    "txt = ' '.join(simple_preprocess(txt))\n",
    "\n",
    "# Create a bigram model for better context\n",
    "nltk.download('punkt')\n",
    "bigram = gensim.models.Phrases(txt, min_count=1, threshold=1)\n",
    "bigram_mod = gensim.models.phrases.Phraser(bigram)\n",
    "txt = ' '.join(bigram_mod[word_tokenize(txt)])\n",
    "\n",
    "# Lemmatize\n",
    "# You have to execute \"python -m spacy download en_core_web_lg\" in a shell to be able to load it\n",
    "nlp = spacy.load('en_core_web_sm')\n",
    "doc = nlp(txt)\n",
    "txt = [token.lemma_ for token in doc]\n",
    "\n",
    "# Remove some custom stopwords\n",
    "nltk.download('stopwords')\n",
    "stop_words = stopwords.words('english')\n",
    "stop_words.extend(['all','non','food','other','cold','hot','misc','product','care'])\n",
    "txt = [t for t in txt if t not in stop_words]"
   ]
  },
  {
   "cell_type": "code",
   "execution_count": 77,
   "metadata": {},
   "outputs": [
    {
     "name": "stdout",
     "output_type": "stream",
     "text": [
      "Total number of unique terms:  105\n"
     ]
    },
    {
     "data": {
      "image/png": "[encoded data removed]",
      "text/plain": [
       "<Figure size 1440x504 with 1 Axes>"
      ]
     },
     "metadata": {
      "needs_background": "light"
     },
     "output_type": "display_data"
    }
   ],
   "source": [
    "print('Total number of unique terms: ', len(set(txt)))\n",
    "tf = Counter(txt).most_common(50)\n",
    "xaxis = [g for g,x in tf]\n",
    "yaxis = [x for g,x, in tf]\n",
    "\n",
    "fig, ax = plt.subplots(figsize=(20,7))\n",
    "ax.bar(np.arange(1,len(yaxis)+1,1), yaxis)\n",
    "ax.set_xticks(np.arange(1,len(yaxis)+1,1))\n",
    "ax.set_xticklabels(xaxis, rotation=45)\n",
    "ax.set_title('Most frequent terms among Giffen product descriptions')\n",
    "ax.set_ylabel('Count')\n",
    "plt.show()"
   ]
  },
  {
   "cell_type": "markdown",
   "metadata": {},
   "source": [
    "Indeed, we can notice that the products with positive elasticities (aka. Giffen products) are typically low-budget, non-luxury items. In the top rankings, we see the term \"frozen\" and \"frzn\", most probably alluding to frozen food packages that are generally cheap. We also see many indications \"bread\" (dough, bake, bread, etc.) in accordance with our initial guess. There are also many indications of dairy products in this ranking, which are likewise non-luxury, essential goods. "
   ]
  },
  {
   "cell_type": "markdown",
   "metadata": {},
   "source": [
    "### C) Measuring complementarity between products\n",
    "Price elasticity of demand looks at each product independently. However, two products' relationship (either complementary or substitutable) can be computed using the *cross price elasticity of demand*. Given products A and B, it describes the percent change in the quantity demanded of product A upon 1% change in the price of product B, and vice versa. This work will become the ground for our main result, which is the visualization of product relationships in a network.\n",
    "\n",
    "Our main steps are as follows:\n",
    "1. Join two items by weeks so as to compare their price and quantity changes over the same time frame.\n",
    "2. Plot one item's prices vs. the other's quantities (and vice versa) and perform linear regression using the \"binning\" approach as before to redue variability within data.\n",
    "3. Obtain the cross elasticity from the slope of the linear regression fit, again using the midpoint formula for elasticity."
   ]
  },
  {
   "cell_type": "code",
   "execution_count": 79,
   "metadata": {},
   "outputs": [],
   "source": [
    "def bin_price_and_quantity_two_products(items):\n",
    "    # Price of item 1 on item 2's quantities and vice versa\n",
    "    y1 = items.groupby('AUP_1').agg('mean')['QUANTITY_2']\n",
    "    y2 = items.groupby('AUP_2').agg('mean')['QUANTITY_1']\n",
    "    \n",
    "    x1 = y1.index\n",
    "    x2 = y2.index\n",
    "    \n",
    "    qty_sum1, bins1 = np.histogram(x1, bins = 10, weights = y1)\n",
    "    qty_sum2, bins2 = np.histogram(x2, bins = 10, weights = y2)\n",
    "    \n",
    "    # Binning\n",
    "    num_prices1, _ = np.histogram(x1, bins = 10)\n",
    "    num_prices2, _ = np.histogram(x2, bins = 10)\n",
    "    \n",
    "    # Remove empty bins\n",
    "    zero_idx1 = np.argwhere(np.array(qty_sum1) == 0)\n",
    "    zero_idx1 = zero_idx1.reshape((zero_idx1.size,))\n",
    "    zero_idx2 = np.argwhere(np.array(qty_sum2) == 0)\n",
    "    zero_idx2 = zero_idx2.reshape((zero_idx2.size,))\n",
    "    qty_sum1 = np.delete(qty_sum1, zero_idx1)\n",
    "    qty_sum2 = np.delete(qty_sum2, zero_idx2)\n",
    "    num_prices1 = np.delete(num_prices1, zero_idx1)\n",
    "    num_prices2 = np.delete(num_prices2, zero_idx2)\n",
    "    \n",
    "    qtys1 = [s/t for s, t in zip(qty_sum1, num_prices1)]\n",
    "    prices1 = [(s+t)/2 for s, t in zip(bins1[:-1], bins1[1:])]\n",
    "    prices1 = np.delete(prices1, zero_idx1)\n",
    "    \n",
    "    qtys2 = [s/t for s, t in zip(qty_sum2, num_prices2)]\n",
    "    prices2 = [(s+t)/2 for s, t in zip(bins2[:-1], bins2[1:])]\n",
    "    prices2 = np.delete(prices2, zero_idx2)\n",
    "    return qtys1, qtys2, prices1, prices2\n",
    "\n",
    "def plot_price_and_quantity_bin_two_products(items, plot = 1):\n",
    "    qtys1, qtys2, prcs1, prcs2 = bin_price_and_quantity_two_products(items)\n",
    "    \n",
    "    if plot:\n",
    "        plt.figure(figsize = (10, 3))\n",
    "        plt.scatter(prcs1, qtys1)\n",
    "        plt.xlabel('AUP')\n",
    "        plt.ylabel('QUANTITY')\n",
    "\n",
    "    # Two regressions\n",
    "    line_fit1 = np.polyfit(prcs1, qtys1, 1)\n",
    "    line1 = np.poly1d(line_fit1)\n",
    "    line_fit2 = np.polyfit(prcs2, qtys2, 1)\n",
    "    line2 = np.poly1d(line_fit2)\n",
    "    \n",
    "    # Compute elasticity\n",
    "    min_price1 = np.unique(prcs1).min()\n",
    "    max_price1 = np.unique(prcs1).max()\n",
    "    min_qty1 = line1(min_price1)\n",
    "    max_qty1 = line1(max_price1)\n",
    "    min_price2 = np.unique(prcs2).min()\n",
    "    max_price2 = np.unique(prcs2).max()\n",
    "    min_qty2 = line2(min_price2)\n",
    "    max_qty2 = line2(max_price2)\n",
    "    \n",
    "    cross_elasticity1 = midpoint_elasticity(max_qty1, min_qty1, max_price1, min_price1)\n",
    "    cross_elasticity2 = midpoint_elasticity(max_qty2, min_qty2, max_price2, min_price2)\n",
    "    \n",
    "    # Cross elasticity is the average\n",
    "    cross_elasticity = (cross_elasticity1 + cross_elasticity2)/2\n",
    "    \n",
    "    if plot:\n",
    "        plt.title(items.COMMODITY_DESC_1.unique()[0] +' and ' \\\n",
    "                  + items.COMMODITY_DESC_2.unique()[0] + '\\nCross Elasticity: ' \\\n",
    "                  + str(np.round(cross_elasticity, 2)))\n",
    "        plt.plot(np.unique(prcs1), line1(np.unique(prcs1)), color='red')\n",
    "    return cross_elasticity"
   ]
  },
  {
   "cell_type": "code",
   "execution_count": 80,
   "metadata": {},
   "outputs": [
    {
     "data": {
      "image/png": "[encoded data removed]",
      "text/plain": [
       "<Figure size 720x216 with 1 Axes>"
      ]
     },
     "metadata": {
      "needs_background": "light"
     },
     "output_type": "display_data"
    },
    {
     "data": {
      "image/png": "[encoded data removed]",
      "text/plain": [
       "<Figure size 720x216 with 1 Axes>"
      ]
     },
     "metadata": {
      "needs_background": "light"
     },
     "output_type": "display_data"
    },
    {
     "data": {
      "image/png": "[encoded data removed]",
      "text/plain": [
       "<Figure size 720x216 with 1 Axes>"
      ]
     },
     "metadata": {
      "needs_background": "light"
     },
     "output_type": "display_data"
    },
    {
     "data": {
      "image/png": "[encoded data removed]",
      "text/plain": [
       "<Figure size 720x216 with 1 Axes>"
      ]
     },
     "metadata": {
      "needs_background": "light"
     },
     "output_type": "display_data"
    },
    {
     "data": {
      "image/png": "[encoded data removed]",
      "text/plain": [
       "<Figure size 720x216 with 1 Axes>"
      ]
     },
     "metadata": {
      "needs_background": "light"
     },
     "output_type": "display_data"
    }
   ],
   "source": [
    "# Form every pair of products\n",
    "pairs = itertools.combinations(list(df_filtered.COMMODITY_DESC.unique()), 2)\n",
    "\n",
    "# Experiment with a few pairs\n",
    "for pair in list(pairs)[200:205]:\n",
    "    item1_df = df_filtered[df_filtered.COMMODITY_DESC == pair[0]].sort_values(by = 'WEEK_NO').set_index('WEEK_NO')\n",
    "    item2_df = df_filtered[df_filtered.COMMODITY_DESC == pair[1]].sort_values(by = 'WEEK_NO').set_index('WEEK_NO')\n",
    "    \n",
    "    # Join by week number -- make sure that we observe along the same time frame\n",
    "    joined_df = item1_df.join(item2_df, how = 'inner', lsuffix = '_1', rsuffix = '_2')\n",
    "    joined_df.sort_index(inplace = True)\n",
    "    \n",
    "    if joined_df.shape[0] <= 1:\n",
    "        continue # Need more than one overlapping time indices to compute elasticity!\n",
    "    \n",
    "    plot_price_and_quantity_bin_two_products(joined_df)"
   ]
  },
  {
   "cell_type": "markdown",
   "metadata": {},
   "source": [
    "In the above, we show the cross elasticity example with adult incontinence product -- which is very particular -- with five other products. We expect the first item to be largely independent on any other product's prices, which we can verify to some extent above. The magnitude of the cross elasticities is less than 1, which suggests that adult incontinence is *inelastic* to price changes in the other goods."
   ]
  },
  {
   "cell_type": "code",
   "execution_count": 81,
   "metadata": {},
   "outputs": [],
   "source": [
    "# First, collect all pairwise cross elasticities\n",
    "pairs = itertools.combinations(list(df_filtered.COMMODITY_DESC.unique()), 2)\n",
    "cross_elasticities = {}\n",
    "for pair in list(pairs):\n",
    "    item1_df = df_filtered[df_filtered.COMMODITY_DESC == pair[0]].sort_values(by = 'WEEK_NO').set_index('WEEK_NO')\n",
    "    item2_df = df_filtered[df_filtered.COMMODITY_DESC == pair[1]].sort_values(by = 'WEEK_NO').set_index('WEEK_NO')\n",
    "    \n",
    "    # Join by week number \n",
    "    joined_df = item1_df.join(item2_df, how = 'inner', lsuffix = '_1', rsuffix = '_2')\n",
    "    joined_df.sort_index(inplace=True)\n",
    "    \n",
    "    if joined_df.shape[0] <= 1:\n",
    "        continue \n",
    "    ce = plot_price_and_quantity_bin_two_products(joined_df, plot = 0)\n",
    "    \n",
    "    # Update dictionary\n",
    "    cross_elasticities[(joined_df.COMMODITY_DESC_1.unique()[0], joined_df.COMMODITY_DESC_2.unique()[0])] = ce"
   ]
  },
  {
   "cell_type": "code",
   "execution_count": 82,
   "metadata": {},
   "outputs": [
    {
     "data": {
      "image/png": "[encoded data removed]",
      "text/plain": [
       "<Figure size 720x504 with 1 Axes>"
      ]
     },
     "metadata": {
      "needs_background": "light"
     },
     "output_type": "display_data"
    }
   ],
   "source": [
    "# Verify that cross elasticities are mostly positive\n",
    "vals = [y for x,y in cross_elasticities.items()]\n",
    "fig = plt.figure(figsize = (10,7))\n",
    "plt.violinplot(vals)\n",
    "plt.title('Distribution of cross elasticities between every pair of products')\n",
    "plt.ylabel('Cross elasticity of demand')\n",
    "plt.show()"
   ]
  },
  {
   "cell_type": "markdown",
   "metadata": {},
   "source": [
    "### D) Effect of income and presence of children on food purchases\n",
    "Given householders set, we might want to study how purchases vary along some parameters, and see if there are correlations between these pairs. An additional idea is to represent householders as nodes (size of node being proportional to income), put jaccard similarities between sets of bought products as edges, and then see if we can form clusters and figure out that some products or sets of products are related to a certain type of revenue."
   ]
  },
  {
   "cell_type": "code",
   "execution_count": null,
   "metadata": {},
   "outputs": [],
   "source": []
  },
  {
   "cell_type": "code",
   "execution_count": null,
   "metadata": {},
   "outputs": [],
   "source": []
  },
  {
   "cell_type": "markdown",
   "metadata": {},
   "source": [
    "## Part IV: Discussions and plan for what comes next\n",
    "After having acquired and cleaned the data, we figured out a couple of things that allowed us to sharpen our initial objectives for this project. For example, in a lot of scenarios we confirmed that the lack of data for some analyses leads to inconsistent results considering our initial hypotheses. <br/>\n",
    "\n",
    "Moving on to milestone 3, we now have a couple of objectives as well as an informed plan for what comes next:\n",
    "1. Try and represent all these economic relationships in graphs.\n",
    "2. Construct clusters in these graphs which are intuitive economically and come naturally from the corresponding relationships."
   ]
  }
 ],
 "metadata": {
  "kernelspec": {
   "display_name": "Python 3",
   "language": "python",
   "name": "python3"
  },
  "language_info": {
   "codemirror_mode": {
    "name": "ipython",
    "version": 3
   },
   "file_extension": ".py",
   "mimetype": "text/x-python",
   "name": "python",
   "nbconvert_exporter": "python",
   "pygments_lexer": "ipython3",
   "version": "3.7.4"
  },
  "varInspector": {
   "cols": {
    "lenName": 16,
    "lenType": 16,
    "lenVar": 40
   },
   "kernels_config": {
    "python": {
     "delete_cmd_postfix": "",
     "delete_cmd_prefix": "del ",
     "library": "var_list.py",
     "varRefreshCmd": "print(var_dic_list())"
    },
    "r": {
     "delete_cmd_postfix": ") ",
     "delete_cmd_prefix": "rm(",
     "library": "var_list.r",
     "varRefreshCmd": "cat(var_dic_list()) "
    }
   },
   "types_to_exclude": [
    "module",
    "function",
    "builtin_function_or_method",
    "instance",
    "_Feature"
   ],
   "window_display": false
  }
 },
 "nbformat": 4,
 "nbformat_minor": 4
}
